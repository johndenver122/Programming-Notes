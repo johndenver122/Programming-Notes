{
  "nbformat": 4,
  "nbformat_minor": 0,
  "metadata": {
    "colab": {
      "name": "Exploring the Bootcamp Business Model",
      "provenance": [],
      "collapsed_sections": [],
      "toc_visible": true,
      "include_colab_link": true
    },
    "kernelspec": {
      "name": "python3",
      "display_name": "Python 3"
    },
    "accelerator": "GPU"
  },
  "cells": [
    {
      "cell_type": "markdown",
      "metadata": {
        "id": "view-in-github",
        "colab_type": "text"
      },
      "source": [
        "<a href=\"https://colab.research.google.com/github/johndenver122/Programming-Notes/blob/main/Exploring_the_Bootcamp_Business_Model.ipynb\" target=\"_parent\"><img src=\"https://colab.research.google.com/assets/colab-badge.svg\" alt=\"Open In Colab\"/></a>"
      ]
    },
    {
      "cell_type": "markdown",
      "metadata": {
        "id": "Xc9FQ1eFgB4A"
      },
      "source": [
        "# Exploring the Coding Bootcamp Business Model\n",
        "\n",
        "This is an exploration of the coding bootcamp business model, based on the steps in the student lifecycle.\n",
        "\n",
        "It uses [@lethain's](https://lethain.com/systems-thinking/) python library [systems](https://github.com/lethain/systems) to simulate the model. I find that it's a more natural tool than a spreadsheet for unit economics modeling, but if you're familiar with unit economics modeling in spreadsheets, this should feel like home.\n",
        "\n",
        "If you've never seen python, this library, or a unit economics model before, never fear! I explain each step - it'll just be a little more to learn ;)\n",
        "\n",
        "Thanks for checking it out, drop me a note if you have thoughts or feedback!\n",
        "\n",
        "[Rob](rob.co.bb/about)"
      ]
    },
    {
      "cell_type": "markdown",
      "metadata": {
        "id": "_rJqK2IShdq9"
      },
      "source": [
        "## How to use this notebook\n",
        "\n",
        "You _could_ just passively read this, but [you shouldn't!](https://andymatuschak.org/books/) \n",
        "\n",
        "In order to learn, you have to actively engage. Plus, it's more fun!\n",
        "\n",
        "Some ideas:\n",
        "* 🔎 Run the cells and inspect their output step by step (instead of just reading the output)\n",
        "* 🖨 Copy your own version of the document, and change the models themselves - simplify, or add complexity.\n",
        "* 📈 Change the assumptions (the numbers in the models), and see how it affects the outcomes.\n",
        "* 🔢 If you know the details of some particular bootcamp's model, use those numbers - and see if they match up to the actual numbers in your financials\n",
        "* 📆 Use this to project a bootcamp's numbers for an upcoming year\n",
        "* 🚌 Model other kinds of schools or businesses\n",
        "* 📝 Write down your thoughts and share them, or talk about it with a friend!"
      ]
    },
    {
      "cell_type": "markdown",
      "metadata": {
        "id": "JVVE59WDjufD"
      },
      "source": [
        "## Imports and setup\n",
        "\n",
        "Loads in the pieces we need to run the rest of the notebook."
      ]
    },
    {
      "cell_type": "code",
      "metadata": {
        "id": "6xsWSKwXjQhY",
        "colab": {
          "base_uri": "https://localhost:8080/"
        },
        "outputId": "76d8b1df-402f-4e3f-abf0-82810499735b"
      },
      "source": [
        "!pip install systems\n",
        "from systems.parse import parse\n",
        "from systems.viz import as_dot\n",
        "from IPython.core.display import HTML\n",
        "from bokeh.plotting import figure, show, output_notebook\n",
        "from bokeh.models import NumeralTickFormatter\n",
        "import pprint\n",
        "output_notebook()"
      ],
      "execution_count": null,
      "outputs": [
        {
          "output_type": "stream",
          "name": "stdout",
          "text": [
            "Collecting systems\n",
            "  Downloading systems-0.1.0-py3-none-any.whl (16 kB)\n",
            "Requirement already satisfied: graphviz in /usr/local/lib/python3.7/dist-packages (from systems) (0.10.1)\n",
            "Installing collected packages: systems\n",
            "Successfully installed systems-0.1.0\n"
          ]
        }
      ]
    },
    {
      "cell_type": "markdown",
      "metadata": {
        "id": "4mepozsRjzJe"
      },
      "source": [
        "# Simplified bootcamp student lifecycle\n",
        "\n",
        "The business model we're building starts with the bones of the student lifecycle. \n",
        "\n",
        "**Prospective** students learn about the school. Some of those prospective students enroll and become **students**. Students take the program hopefully learn a ton of awesome skills, then **graduate**. Graduates start their job search, and eventually get **placed**.\n",
        "\n",
        "We'll start with this simplified version of the bootcamp student lifecycle model, then dig into each stage in greater depth.\n",
        "\n",
        "If you start playing with the syntax and want to know more about how it works, you can read about it here: https://github.com/lethain/systems"
      ]
    },
    {
      "cell_type": "code",
      "metadata": {
        "id": "KJJ1BKhwjVT5"
      },
      "source": [
        "simple_spec = \"\"\"\n",
        "\n",
        "[World]       > Prospectives    @ 1000\n",
        "Prospectives  > Students        @ 0.1\n",
        "Students      > Graduates       @ 0.85\n",
        "Graduates     > Placed          @ 0.85\n",
        "\n",
        "\"\"\"\n",
        "simple_model = parse(simple_spec)"
      ],
      "execution_count": null,
      "outputs": []
    },
    {
      "cell_type": "markdown",
      "metadata": {
        "id": "jHYmOBMjriCa"
      },
      "source": [
        "## What's this syntax mean?\n",
        "\n",
        "This lets us define a model of the world, with _flows_ between different _stocks_. In this case, at every tick, there are:\n",
        "\n",
        "* 1000 new prospective students\n",
        "* 10 percent enroll\n",
        "* 85 percent graduate\n",
        "* 85 percent find a job\n",
        "\n",
        "The `>` means a _flow_ from one _stock_ to another, at the _rate_ indicated by the part after the `@`. So,\n",
        "\n",
        "```\n",
        "Students      > Graduates       @ 0.85\n",
        "```\n",
        "\n",
        "means that students turn into graduates at a rate of 85% per tick.\n",
        "\n",
        "_Note: This is a pretend bootcamp. I just made the numbers up._"
      ]
    },
    {
      "cell_type": "markdown",
      "metadata": {
        "id": "YOjADwc3shbd"
      },
      "source": [
        "### What's a _tick_?\n",
        "\n",
        "The systems library lets us simulate this model. We can run it for some number of rounds, and see how many students are at in each lifecycle stage for each round.\n",
        "\n",
        "In this simplified model, each round is one 'length of bootcamp'. We'll call it 3 months, since that's a nice simple number for the model. \n",
        "\n",
        "In the next model down, I added a \"Months\" column to make the chart a little easier to follow."
      ]
    },
    {
      "cell_type": "markdown",
      "metadata": {
        "id": "SvTa6zHkcXWs"
      },
      "source": [
        "## Simulating the bootcamp for 15 'ticks'\n",
        "\n",
        "Each tick is 3 months, which is the length of our made-up program.\n"
      ]
    },
    {
      "cell_type": "code",
      "metadata": {
        "id": "FmejkSugjfPO",
        "colab": {
          "base_uri": "https://localhost:8080/",
          "height": 382
        },
        "outputId": "fe99da50-dd87-4072-9f64-4372975f24e1"
      },
      "source": [
        "simple_results = simple_model.run(rounds=15)\n",
        "simple_rendered = simple_model.render_html(simple_results)\n",
        "HTML(simple_rendered)"
      ],
      "execution_count": null,
      "outputs": [
        {
          "output_type": "execute_result",
          "data": {
            "text/html": [
              "<table>\n",
              "<theader>\n",
              "<tr>\n",
              "<td><strong>Round</strong></td>\n",
              "<td><strong>Prospectives</strong></td>\n",
              "<td><strong>Students</strong></td>\n",
              "<td><strong>Graduates</strong></td>\n",
              "<td><strong>Placed</strong></td>\n",
              "</tr>\n",
              "</theader>\n",
              "<tbody>\n",
              "<tr><td>0</td><td>0</td><td>0</td><td>0</td><td>0</td></tr>\n",
              "<tr><td>1</td><td>1000</td><td>0</td><td>0</td><td>0</td></tr>\n",
              "<tr><td>2</td><td>1000</td><td>100</td><td>0</td><td>0</td></tr>\n",
              "<tr><td>3</td><td>1000</td><td>100</td><td>85</td><td>0</td></tr>\n",
              "<tr><td>4</td><td>1000</td><td>100</td><td>85</td><td>72</td></tr>\n",
              "<tr><td>5</td><td>1000</td><td>100</td><td>85</td><td>144</td></tr>\n",
              "<tr><td>6</td><td>1000</td><td>100</td><td>85</td><td>216</td></tr>\n",
              "<tr><td>7</td><td>1000</td><td>100</td><td>85</td><td>288</td></tr>\n",
              "<tr><td>8</td><td>1000</td><td>100</td><td>85</td><td>360</td></tr>\n",
              "<tr><td>9</td><td>1000</td><td>100</td><td>85</td><td>432</td></tr>\n",
              "<tr><td>10</td><td>1000</td><td>100</td><td>85</td><td>504</td></tr>\n",
              "<tr><td>11</td><td>1000</td><td>100</td><td>85</td><td>576</td></tr>\n",
              "<tr><td>12</td><td>1000</td><td>100</td><td>85</td><td>648</td></tr>\n",
              "<tr><td>13</td><td>1000</td><td>100</td><td>85</td><td>720</td></tr>\n",
              "<tr><td>14</td><td>1000</td><td>100</td><td>85</td><td>792</td></tr>\n",
              "<tr><td>15</td><td>1000</td><td>100</td><td>85</td><td>864</td></tr>\n",
              "</tbody>\n",
              "</table>"
            ],
            "text/plain": [
              "<IPython.core.display.HTML object>"
            ]
          },
          "metadata": {},
          "execution_count": 4
        }
      ]
    },
    {
      "cell_type": "markdown",
      "metadata": {
        "id": "1VJ29HHrMl_U"
      },
      "source": [
        "## A quick bootcamp metrics check\n",
        "\n",
        "The imaginary school has placed 864 out of 1020 graduates, after enrolling 1300 students. \n",
        "\n",
        "100 students are currently enrolled, and 85 students are still counted as job-seeking.\n",
        "\n",
        "If the school was reporting their outcomes, they might claim that 85% of graduates get placed in a job, even though only 66% of students they've ever enrolled have actually been placed in a job.\n",
        "\n",
        "This gap makes explaining bootcamp placement numbers hard! We'll get more into the complications of placement numbers later on.\n",
        "\n",
        "We also shouldn't ignore the 95 students who dropped out or 156 students who didn't get placed within a tick. Dropping out of a bootcamp or getting stuck in your job search can be deeply frustrating and disempowering experiences. Many of those students go on to find success in another program or find a job after the placement period, or find a different career path.  Still, the emotional toll is not to be ignored."
      ]
    },
    {
      "cell_type": "markdown",
      "metadata": {
        "id": "kGmlB70zt-V-"
      },
      "source": [
        "# Adding in costs and revenue\n",
        "\n",
        "Turning the student journey into a business model means adding in cost and revenue at each step.\n",
        "\n",
        "Just like our student lifecycle, we're going to start with a simplified version of the cost and revenue and then add more factors."
      ]
    },
    {
      "cell_type": "code",
      "metadata": {
        "id": "ltcN5u0cuihR",
        "colab": {
          "base_uri": "https://localhost:8080/",
          "height": 320
        },
        "outputId": "270f28c1-43b1-4b42-fcbc-557833394f97"
      },
      "source": [
        "simple_costs_spec = \"\"\"\n",
        "\n",
        "[time]        > Months          @ 3\n",
        "\n",
        "[World]       > Prospectives    @ 1000\n",
        "Prospectives  > Students        @ 0.1\n",
        "Students      > Graduates       @ 0.85\n",
        "Graduates     > Placed          @ 0.85\n",
        "Placed        > [Job]           @ 1.0\n",
        "\n",
        "[money]       > Expenses        @ (CAC * Students)\n",
        "[money]       > Expenses        @ (COGS * Students)\n",
        "[money]       > Revenue         @ (Tuition * Placed)\n",
        "\n",
        "CAC(1000)\n",
        "COGS(5000)\n",
        "Tuition(10000)\n",
        "\"\"\"\n",
        "simple_costs_model = parse(simple_costs_spec)\n",
        "simple_costs_results = simple_costs_model.run(rounds=15)\n",
        "simple_costs_rendered = simple_costs_model.render_html(simple_costs_results)\n",
        "HTML(simple_costs_rendered)"
      ],
      "execution_count": null,
      "outputs": [
        {
          "output_type": "execute_result",
          "data": {
            "text/html": [
              "<table>\n",
              "<theader>\n",
              "<tr>\n",
              "<td><strong>Round</strong></td>\n",
              "<td><strong>Months</strong></td>\n",
              "<td><strong>Prospectives</strong></td>\n",
              "<td><strong>Students</strong></td>\n",
              "<td><strong>Graduates</strong></td>\n",
              "<td><strong>Placed</strong></td>\n",
              "<td><strong>Expenses</strong></td>\n",
              "<td><strong>Revenue</strong></td>\n",
              "<td><strong>CAC</strong></td>\n",
              "<td><strong>COGS</strong></td>\n",
              "<td><strong>Tuition</strong></td>\n",
              "</tr>\n",
              "</theader>\n",
              "<tbody>\n",
              "<tr><td>0</td><td>0</td><td>0</td><td>0</td><td>0</td><td>0</td><td>0</td><td>0</td><td>1000</td><td>5000</td><td>10000</td></tr>\n",
              "<tr><td>1</td><td>3</td><td>1000</td><td>0</td><td>0</td><td>0</td><td>0</td><td>0</td><td>1000</td><td>5000</td><td>10000</td></tr>\n",
              "<tr><td>2</td><td>6</td><td>1000</td><td>100</td><td>0</td><td>0</td><td>0</td><td>0</td><td>1000</td><td>5000</td><td>10000</td></tr>\n",
              "<tr><td>3</td><td>9</td><td>1000</td><td>100</td><td>85</td><td>0</td><td>600000</td><td>0</td><td>1000</td><td>5000</td><td>10000</td></tr>\n",
              "<tr><td>4</td><td>12</td><td>1000</td><td>100</td><td>85</td><td>72</td><td>1200000</td><td>0</td><td>1000</td><td>5000</td><td>10000</td></tr>\n",
              "<tr><td>5</td><td>15</td><td>1000</td><td>100</td><td>85</td><td>72</td><td>1800000</td><td>720000</td><td>1000</td><td>5000</td><td>10000</td></tr>\n",
              "<tr><td>6</td><td>18</td><td>1000</td><td>100</td><td>85</td><td>72</td><td>2400000</td><td>1440000</td><td>1000</td><td>5000</td><td>10000</td></tr>\n",
              "<tr><td>7</td><td>21</td><td>1000</td><td>100</td><td>85</td><td>72</td><td>3000000</td><td>2160000</td><td>1000</td><td>5000</td><td>10000</td></tr>\n",
              "<tr><td>8</td><td>24</td><td>1000</td><td>100</td><td>85</td><td>72</td><td>3600000</td><td>2880000</td><td>1000</td><td>5000</td><td>10000</td></tr>\n",
              "<tr><td>9</td><td>27</td><td>1000</td><td>100</td><td>85</td><td>72</td><td>4200000</td><td>3600000</td><td>1000</td><td>5000</td><td>10000</td></tr>\n",
              "<tr><td>10</td><td>30</td><td>1000</td><td>100</td><td>85</td><td>72</td><td>4800000</td><td>4320000</td><td>1000</td><td>5000</td><td>10000</td></tr>\n",
              "<tr><td>11</td><td>33</td><td>1000</td><td>100</td><td>85</td><td>72</td><td>5400000</td><td>5040000</td><td>1000</td><td>5000</td><td>10000</td></tr>\n",
              "<tr><td>12</td><td>36</td><td>1000</td><td>100</td><td>85</td><td>72</td><td>6000000</td><td>5760000</td><td>1000</td><td>5000</td><td>10000</td></tr>\n",
              "<tr><td>13</td><td>39</td><td>1000</td><td>100</td><td>85</td><td>72</td><td>6600000</td><td>6480000</td><td>1000</td><td>5000</td><td>10000</td></tr>\n",
              "<tr><td>14</td><td>42</td><td>1000</td><td>100</td><td>85</td><td>72</td><td>7200000</td><td>7200000</td><td>1000</td><td>5000</td><td>10000</td></tr>\n",
              "<tr><td>15</td><td>45</td><td>1000</td><td>100</td><td>85</td><td>72</td><td>7800000</td><td>7920000</td><td>1000</td><td>5000</td><td>10000</td></tr>\n",
              "</tbody>\n",
              "</table>"
            ],
            "text/plain": [
              "<IPython.core.display.HTML object>"
            ]
          },
          "metadata": {
            "tags": []
          },
          "execution_count": 4
        }
      ]
    },
    {
      "cell_type": "markdown",
      "metadata": {
        "id": "ikZIHG1WxOQQ"
      },
      "source": [
        "## Explaining this model\n",
        "\n",
        "### CAC and COGS\n",
        "\n",
        "**CAC**: **C**ost of **A**cquiring a **C**ustomer\n",
        "\n",
        "**COGS**: **C**ost **O**f **G**oods **S**old. \n",
        "\n",
        "These terms are ubiquitous in financial models, so I'll use them here. They do feel slightly icky in this context - we're talking about students and teachers!\n",
        "\n",
        "Once you know what the terms stand for, they're easier to interpret. \n",
        "\n",
        "**CAC** - How much do you spend on marketing to get a new student?\n",
        "\n",
        "**COGS** - How much does it cost to teach each student and help them get a job?\n",
        "\n",
        "I picked `$1000` for our imaginary bootcamp CAC, `$5000` for COGS, and `$10000` for tuition. As we flesh out the model, we'll dig into what makes up those numbers.\n",
        "\n",
        "Most of the bigger, trendier, or more established bootcamps offer either an Income Share Agreement (ISA), where the student pays a portion of their salary after they get a job, or have a tuition-refund guarantee for students who don't get a job. For this pretend bootcamp, I count revenue based on the number of placements - not students or graduates. To make the code easier, the model also counts the tuition as 'paid' the tick after the student is placed - in reality, the payments would really only start then, and continue for the term of the student's ISA or loan."
      ]
    },
    {
      "cell_type": "markdown",
      "metadata": {
        "id": "YjsKl-a91NzW"
      },
      "source": [
        "## Imaginary bootcamp gross margin\n",
        "\n",
        "We've picked the numbers for our simplified bootcamp somewhat favorably - the school makes `$10,000` per placement, at a cost of `$5000` - a gross profit of `$5000` per student. A nice `50%` margin! It's not a `80%` software margin, but it's not retail or food.\n",
        "\n",
        "Well - not quite. This is what the margin would be if the school graduated 100% of students, and placed 100% of graduates.\n",
        "\n",
        "The school still has to cover the costs for the students who don't graduate and don't get placed - even though they don't pay tuition. If the school places `72%` of students who start$^2$, they end up paying for about `1.4` students per placement$^3$.\n",
        "\n",
        "Gross profit per placement is actually `$10000 - ($5000 * 1.4)`, or `$3000`. `30%` isn't terrible, but it's not as good as `50%`!\n",
        "\n",
        "In case the jargon is new - gross margin is _before_ you count CAC, overhead, or R&D - other expenses.\n",
        "\n",
        "Another caveat: we'll count CAC as the cost to _enroll_ a student. That means it will get this same `1.4` multiplier. That's slightly different from how most businesses count CAC. Later on, we'll get into what costs go into CAC.\n",
        "\n",
        "2. `85% graduation rate * 85% placement rate`\n",
        "3. `100 / 72`, rounded"
      ]
    },
    {
      "cell_type": "markdown",
      "metadata": {
        "id": "cG58QjmpGH2Q"
      },
      "source": [
        "## Time to positive cash\n",
        "\n",
        "Let's look at the model output again:"
      ]
    },
    {
      "cell_type": "code",
      "metadata": {
        "id": "Y2MtcfjKGYMF",
        "colab": {
          "base_uri": "https://localhost:8080/",
          "height": 320
        },
        "outputId": "16008d5c-c4a5-44d3-c82b-d2cbff2d6f8e"
      },
      "source": [
        "HTML(simple_costs_rendered)"
      ],
      "execution_count": null,
      "outputs": [
        {
          "output_type": "execute_result",
          "data": {
            "text/html": [
              "<table>\n",
              "<theader>\n",
              "<tr>\n",
              "<td><strong>Round</strong></td>\n",
              "<td><strong>Months</strong></td>\n",
              "<td><strong>Prospectives</strong></td>\n",
              "<td><strong>Students</strong></td>\n",
              "<td><strong>Graduates</strong></td>\n",
              "<td><strong>Placed</strong></td>\n",
              "<td><strong>Expenses</strong></td>\n",
              "<td><strong>Revenue</strong></td>\n",
              "<td><strong>CAC</strong></td>\n",
              "<td><strong>COGS</strong></td>\n",
              "<td><strong>Tuition</strong></td>\n",
              "</tr>\n",
              "</theader>\n",
              "<tbody>\n",
              "<tr><td>0</td><td>0</td><td>0</td><td>0</td><td>0</td><td>0</td><td>0</td><td>0</td><td>1000</td><td>5000</td><td>10000</td></tr>\n",
              "<tr><td>1</td><td>3</td><td>1000</td><td>0</td><td>0</td><td>0</td><td>0</td><td>0</td><td>1000</td><td>5000</td><td>10000</td></tr>\n",
              "<tr><td>2</td><td>6</td><td>1000</td><td>100</td><td>0</td><td>0</td><td>0</td><td>0</td><td>1000</td><td>5000</td><td>10000</td></tr>\n",
              "<tr><td>3</td><td>9</td><td>1000</td><td>100</td><td>85</td><td>0</td><td>600000</td><td>0</td><td>1000</td><td>5000</td><td>10000</td></tr>\n",
              "<tr><td>4</td><td>12</td><td>1000</td><td>100</td><td>85</td><td>72</td><td>1200000</td><td>0</td><td>1000</td><td>5000</td><td>10000</td></tr>\n",
              "<tr><td>5</td><td>15</td><td>1000</td><td>100</td><td>85</td><td>72</td><td>1800000</td><td>720000</td><td>1000</td><td>5000</td><td>10000</td></tr>\n",
              "<tr><td>6</td><td>18</td><td>1000</td><td>100</td><td>85</td><td>72</td><td>2400000</td><td>1440000</td><td>1000</td><td>5000</td><td>10000</td></tr>\n",
              "<tr><td>7</td><td>21</td><td>1000</td><td>100</td><td>85</td><td>72</td><td>3000000</td><td>2160000</td><td>1000</td><td>5000</td><td>10000</td></tr>\n",
              "<tr><td>8</td><td>24</td><td>1000</td><td>100</td><td>85</td><td>72</td><td>3600000</td><td>2880000</td><td>1000</td><td>5000</td><td>10000</td></tr>\n",
              "<tr><td>9</td><td>27</td><td>1000</td><td>100</td><td>85</td><td>72</td><td>4200000</td><td>3600000</td><td>1000</td><td>5000</td><td>10000</td></tr>\n",
              "<tr><td>10</td><td>30</td><td>1000</td><td>100</td><td>85</td><td>72</td><td>4800000</td><td>4320000</td><td>1000</td><td>5000</td><td>10000</td></tr>\n",
              "<tr><td>11</td><td>33</td><td>1000</td><td>100</td><td>85</td><td>72</td><td>5400000</td><td>5040000</td><td>1000</td><td>5000</td><td>10000</td></tr>\n",
              "<tr><td>12</td><td>36</td><td>1000</td><td>100</td><td>85</td><td>72</td><td>6000000</td><td>5760000</td><td>1000</td><td>5000</td><td>10000</td></tr>\n",
              "<tr><td>13</td><td>39</td><td>1000</td><td>100</td><td>85</td><td>72</td><td>6600000</td><td>6480000</td><td>1000</td><td>5000</td><td>10000</td></tr>\n",
              "<tr><td>14</td><td>42</td><td>1000</td><td>100</td><td>85</td><td>72</td><td>7200000</td><td>7200000</td><td>1000</td><td>5000</td><td>10000</td></tr>\n",
              "<tr><td>15</td><td>45</td><td>1000</td><td>100</td><td>85</td><td>72</td><td>7800000</td><td>7920000</td><td>1000</td><td>5000</td><td>10000</td></tr>\n",
              "</tbody>\n",
              "</table>"
            ],
            "text/plain": [
              "<IPython.core.display.HTML object>"
            ]
          },
          "metadata": {
            "tags": []
          },
          "execution_count": 5
        }
      ]
    },
    {
      "cell_type": "markdown",
      "metadata": {
        "id": "WKp4zz_jHDLd"
      },
      "source": [
        "For the first year, the bootcamp loses money _fast_. It's lost `$1.2 million` after year 1.\n",
        "\n",
        "The school is cashflow-positive starting in round 5, when students start paying back their tuition. (Remember, we're leaving out a bunch of other costs, so this is really 'unit-economics-cashflow-positive').\n",
        "\n",
        "For the first 3 years, this imaginary bootcamp has lost money!\n",
        "\n",
        "It's only in month 45 that the school is actually cash positive.\n",
        "\n",
        "Remember - this still counts the money as coming in a lump sum the tick after the student is placed. For schools that collect based on an ISA, the money will come in slower.\n",
        "\n",
        "Let's visualize the imaginary bootcamp bank account:"
      ]
    },
    {
      "cell_type": "code",
      "metadata": {
        "id": "49Ba-LbdHxoy",
        "colab": {
          "base_uri": "https://localhost:8080/",
          "height": 417
        },
        "outputId": "ab0cc0a4-2e1c-4493-fb99-b2dead9af5f9"
      },
      "source": [
        "x = [row[\"Months\"] for row in simple_costs_results]\n",
        "y = [row[\"Revenue\"] - row[\"Expenses\"] for row in simple_costs_results]\n",
        "p = figure(title=\"Cash\", width=600, height=400, y_axis_type=\"linear\")\n",
        "p.xaxis[0].axis_label = 'Months'\n",
        "p.yaxis[0].axis_label = 'Dollars'\n",
        "p.yaxis[0].formatter = NumeralTickFormatter(format=\"$0\")\n",
        "p.line(x, y)\n",
        "show(p)"
      ],
      "execution_count": null,
      "outputs": [
        {
          "output_type": "display_data",
          "data": {
            "application/javascript": [
              "\n",
              "(function(root) {\n",
              "  function now() {\n",
              "    return new Date();\n",
              "  }\n",
              "\n",
              "  var force = true;\n",
              "\n",
              "  if (typeof root._bokeh_onload_callbacks === \"undefined\" || force === true) {\n",
              "    root._bokeh_onload_callbacks = [];\n",
              "    root._bokeh_is_loading = undefined;\n",
              "  }\n",
              "\n",
              "  var JS_MIME_TYPE = 'application/javascript';\n",
              "  var HTML_MIME_TYPE = 'text/html';\n",
              "  var EXEC_MIME_TYPE = 'application/vnd.bokehjs_exec.v0+json';\n",
              "  var CLASS_NAME = 'output_bokeh rendered_html';\n",
              "\n",
              "  /**\n",
              "   * Render data to the DOM node\n",
              "   */\n",
              "  function render(props, node) {\n",
              "    var script = document.createElement(\"script\");\n",
              "    node.appendChild(script);\n",
              "  }\n",
              "\n",
              "  /**\n",
              "   * Handle when an output is cleared or removed\n",
              "   */\n",
              "  function handleClearOutput(event, handle) {\n",
              "    var cell = handle.cell;\n",
              "\n",
              "    var id = cell.output_area._bokeh_element_id;\n",
              "    var server_id = cell.output_area._bokeh_server_id;\n",
              "    // Clean up Bokeh references\n",
              "    if (id != null && id in Bokeh.index) {\n",
              "      Bokeh.index[id].model.document.clear();\n",
              "      delete Bokeh.index[id];\n",
              "    }\n",
              "\n",
              "    if (server_id !== undefined) {\n",
              "      // Clean up Bokeh references\n",
              "      var cmd = \"from bokeh.io.state import curstate; print(curstate().uuid_to_server['\" + server_id + \"'].get_sessions()[0].document.roots[0]._id)\";\n",
              "      cell.notebook.kernel.execute(cmd, {\n",
              "        iopub: {\n",
              "          output: function(msg) {\n",
              "            var id = msg.content.text.trim();\n",
              "            if (id in Bokeh.index) {\n",
              "              Bokeh.index[id].model.document.clear();\n",
              "              delete Bokeh.index[id];\n",
              "            }\n",
              "          }\n",
              "        }\n",
              "      });\n",
              "      // Destroy server and session\n",
              "      var cmd = \"import bokeh.io.notebook as ion; ion.destroy_server('\" + server_id + \"')\";\n",
              "      cell.notebook.kernel.execute(cmd);\n",
              "    }\n",
              "  }\n",
              "\n",
              "  /**\n",
              "   * Handle when a new output is added\n",
              "   */\n",
              "  function handleAddOutput(event, handle) {\n",
              "    var output_area = handle.output_area;\n",
              "    var output = handle.output;\n",
              "\n",
              "    // limit handleAddOutput to display_data with EXEC_MIME_TYPE content only\n",
              "    if ((output.output_type != \"display_data\") || (!output.data.hasOwnProperty(EXEC_MIME_TYPE))) {\n",
              "      return\n",
              "    }\n",
              "\n",
              "    var toinsert = output_area.element.find(\".\" + CLASS_NAME.split(' ')[0]);\n",
              "\n",
              "    if (output.metadata[EXEC_MIME_TYPE][\"id\"] !== undefined) {\n",
              "      toinsert[toinsert.length - 1].firstChild.textContent = output.data[JS_MIME_TYPE];\n",
              "      // store reference to embed id on output_area\n",
              "      output_area._bokeh_element_id = output.metadata[EXEC_MIME_TYPE][\"id\"];\n",
              "    }\n",
              "    if (output.metadata[EXEC_MIME_TYPE][\"server_id\"] !== undefined) {\n",
              "      var bk_div = document.createElement(\"div\");\n",
              "      bk_div.innerHTML = output.data[HTML_MIME_TYPE];\n",
              "      var script_attrs = bk_div.children[0].attributes;\n",
              "      for (var i = 0; i < script_attrs.length; i++) {\n",
              "        toinsert[toinsert.length - 1].firstChild.setAttribute(script_attrs[i].name, script_attrs[i].value);\n",
              "      }\n",
              "      // store reference to server id on output_area\n",
              "      output_area._bokeh_server_id = output.metadata[EXEC_MIME_TYPE][\"server_id\"];\n",
              "    }\n",
              "  }\n",
              "\n",
              "  function register_renderer(events, OutputArea) {\n",
              "\n",
              "    function append_mime(data, metadata, element) {\n",
              "      // create a DOM node to render to\n",
              "      var toinsert = this.create_output_subarea(\n",
              "        metadata,\n",
              "        CLASS_NAME,\n",
              "        EXEC_MIME_TYPE\n",
              "      );\n",
              "      this.keyboard_manager.register_events(toinsert);\n",
              "      // Render to node\n",
              "      var props = {data: data, metadata: metadata[EXEC_MIME_TYPE]};\n",
              "      render(props, toinsert[toinsert.length - 1]);\n",
              "      element.append(toinsert);\n",
              "      return toinsert\n",
              "    }\n",
              "\n",
              "    /* Handle when an output is cleared or removed */\n",
              "    events.on('clear_output.CodeCell', handleClearOutput);\n",
              "    events.on('delete.Cell', handleClearOutput);\n",
              "\n",
              "    /* Handle when a new output is added */\n",
              "    events.on('output_added.OutputArea', handleAddOutput);\n",
              "\n",
              "    /**\n",
              "     * Register the mime type and append_mime function with output_area\n",
              "     */\n",
              "    OutputArea.prototype.register_mime_type(EXEC_MIME_TYPE, append_mime, {\n",
              "      /* Is output safe? */\n",
              "      safe: true,\n",
              "      /* Index of renderer in `output_area.display_order` */\n",
              "      index: 0\n",
              "    });\n",
              "  }\n",
              "\n",
              "  // register the mime type if in Jupyter Notebook environment and previously unregistered\n",
              "  if (root.Jupyter !== undefined) {\n",
              "    var events = require('base/js/events');\n",
              "    var OutputArea = require('notebook/js/outputarea').OutputArea;\n",
              "\n",
              "    if (OutputArea.prototype.mime_types().indexOf(EXEC_MIME_TYPE) == -1) {\n",
              "      register_renderer(events, OutputArea);\n",
              "    }\n",
              "  }\n",
              "\n",
              "  \n",
              "  if (typeof (root._bokeh_timeout) === \"undefined\" || force === true) {\n",
              "    root._bokeh_timeout = Date.now() + 5000;\n",
              "    root._bokeh_failed_load = false;\n",
              "  }\n",
              "\n",
              "  var NB_LOAD_WARNING = {'data': {'text/html':\n",
              "     \"<div style='background-color: #fdd'>\\n\"+\n",
              "     \"<p>\\n\"+\n",
              "     \"BokehJS does not appear to have successfully loaded. If loading BokehJS from CDN, this \\n\"+\n",
              "     \"may be due to a slow or bad network connection. Possible fixes:\\n\"+\n",
              "     \"</p>\\n\"+\n",
              "     \"<ul>\\n\"+\n",
              "     \"<li>re-rerun `output_notebook()` to attempt to load from CDN again, or</li>\\n\"+\n",
              "     \"<li>use INLINE resources instead, as so:</li>\\n\"+\n",
              "     \"</ul>\\n\"+\n",
              "     \"<code>\\n\"+\n",
              "     \"from bokeh.resources import INLINE\\n\"+\n",
              "     \"output_notebook(resources=INLINE)\\n\"+\n",
              "     \"</code>\\n\"+\n",
              "     \"</div>\"}};\n",
              "\n",
              "  function display_loaded() {\n",
              "    var el = document.getElementById(null);\n",
              "    if (el != null) {\n",
              "      el.textContent = \"BokehJS is loading...\";\n",
              "    }\n",
              "    if (root.Bokeh !== undefined) {\n",
              "      if (el != null) {\n",
              "        el.textContent = \"BokehJS \" + root.Bokeh.version + \" successfully loaded.\";\n",
              "      }\n",
              "    } else if (Date.now() < root._bokeh_timeout) {\n",
              "      setTimeout(display_loaded, 100)\n",
              "    }\n",
              "  }\n",
              "\n",
              "\n",
              "  function run_callbacks() {\n",
              "    try {\n",
              "      root._bokeh_onload_callbacks.forEach(function(callback) {\n",
              "        if (callback != null)\n",
              "          callback();\n",
              "      });\n",
              "    } finally {\n",
              "      delete root._bokeh_onload_callbacks\n",
              "    }\n",
              "    console.debug(\"Bokeh: all callbacks have finished\");\n",
              "  }\n",
              "\n",
              "  function load_libs(css_urls, js_urls, callback) {\n",
              "    if (css_urls == null) css_urls = [];\n",
              "    if (js_urls == null) js_urls = [];\n",
              "\n",
              "    root._bokeh_onload_callbacks.push(callback);\n",
              "    if (root._bokeh_is_loading > 0) {\n",
              "      console.debug(\"Bokeh: BokehJS is being loaded, scheduling callback at\", now());\n",
              "      return null;\n",
              "    }\n",
              "    if (js_urls == null || js_urls.length === 0) {\n",
              "      run_callbacks();\n",
              "      return null;\n",
              "    }\n",
              "    console.debug(\"Bokeh: BokehJS not loaded, scheduling load and callback at\", now());\n",
              "    root._bokeh_is_loading = css_urls.length + js_urls.length;\n",
              "\n",
              "    function on_load() {\n",
              "      root._bokeh_is_loading--;\n",
              "      if (root._bokeh_is_loading === 0) {\n",
              "        console.debug(\"Bokeh: all BokehJS libraries/stylesheets loaded\");\n",
              "        run_callbacks()\n",
              "      }\n",
              "    }\n",
              "\n",
              "    function on_error() {\n",
              "      console.error(\"failed to load \" + url);\n",
              "    }\n",
              "\n",
              "    for (var i = 0; i < css_urls.length; i++) {\n",
              "      var url = css_urls[i];\n",
              "      const element = document.createElement(\"link\");\n",
              "      element.onload = on_load;\n",
              "      element.onerror = on_error;\n",
              "      element.rel = \"stylesheet\";\n",
              "      element.type = \"text/css\";\n",
              "      element.href = url;\n",
              "      console.debug(\"Bokeh: injecting link tag for BokehJS stylesheet: \", url);\n",
              "      document.body.appendChild(element);\n",
              "    }\n",
              "\n",
              "    for (var i = 0; i < js_urls.length; i++) {\n",
              "      var url = js_urls[i];\n",
              "      var element = document.createElement('script');\n",
              "      element.onload = on_load;\n",
              "      element.onerror = on_error;\n",
              "      element.async = false;\n",
              "      element.src = url;\n",
              "      console.debug(\"Bokeh: injecting script tag for BokehJS library: \", url);\n",
              "      document.head.appendChild(element);\n",
              "    }\n",
              "  };\n",
              "\n",
              "  function inject_raw_css(css) {\n",
              "    const element = document.createElement(\"style\");\n",
              "    element.appendChild(document.createTextNode(css));\n",
              "    document.body.appendChild(element);\n",
              "  }\n",
              "\n",
              "  \n",
              "  var js_urls = [\"https://cdn.pydata.org/bokeh/release/bokeh-1.4.0.min.js\", \"https://cdn.pydata.org/bokeh/release/bokeh-widgets-1.4.0.min.js\", \"https://cdn.pydata.org/bokeh/release/bokeh-tables-1.4.0.min.js\", \"https://cdn.pydata.org/bokeh/release/bokeh-gl-1.4.0.min.js\"];\n",
              "  var css_urls = [];\n",
              "  \n",
              "\n",
              "  var inline_js = [\n",
              "    function(Bokeh) {\n",
              "      Bokeh.set_log_level(\"info\");\n",
              "    },\n",
              "    function(Bokeh) {\n",
              "    \n",
              "    \n",
              "    }\n",
              "  ];\n",
              "\n",
              "  function run_inline_js() {\n",
              "    \n",
              "    if (root.Bokeh !== undefined || force === true) {\n",
              "      \n",
              "    for (var i = 0; i < inline_js.length; i++) {\n",
              "      inline_js[i].call(root, root.Bokeh);\n",
              "    }\n",
              "    } else if (Date.now() < root._bokeh_timeout) {\n",
              "      setTimeout(run_inline_js, 100);\n",
              "    } else if (!root._bokeh_failed_load) {\n",
              "      console.log(\"Bokeh: BokehJS failed to load within specified timeout.\");\n",
              "      root._bokeh_failed_load = true;\n",
              "    } else if (force !== true) {\n",
              "      var cell = $(document.getElementById(null)).parents('.cell').data().cell;\n",
              "      cell.output_area.append_execute_result(NB_LOAD_WARNING)\n",
              "    }\n",
              "\n",
              "  }\n",
              "\n",
              "  if (root._bokeh_is_loading === 0) {\n",
              "    console.debug(\"Bokeh: BokehJS loaded, going straight to plotting\");\n",
              "    run_inline_js();\n",
              "  } else {\n",
              "    load_libs(css_urls, js_urls, function() {\n",
              "      console.debug(\"Bokeh: BokehJS plotting callback run at\", now());\n",
              "      run_inline_js();\n",
              "    });\n",
              "  }\n",
              "}(window));"
            ],
            "application/vnd.bokehjs_load.v0+json": "\n(function(root) {\n  function now() {\n    return new Date();\n  }\n\n  var force = true;\n\n  if (typeof root._bokeh_onload_callbacks === \"undefined\" || force === true) {\n    root._bokeh_onload_callbacks = [];\n    root._bokeh_is_loading = undefined;\n  }\n\n  \n\n  \n  if (typeof (root._bokeh_timeout) === \"undefined\" || force === true) {\n    root._bokeh_timeout = Date.now() + 5000;\n    root._bokeh_failed_load = false;\n  }\n\n  var NB_LOAD_WARNING = {'data': {'text/html':\n     \"<div style='background-color: #fdd'>\\n\"+\n     \"<p>\\n\"+\n     \"BokehJS does not appear to have successfully loaded. If loading BokehJS from CDN, this \\n\"+\n     \"may be due to a slow or bad network connection. Possible fixes:\\n\"+\n     \"</p>\\n\"+\n     \"<ul>\\n\"+\n     \"<li>re-rerun `output_notebook()` to attempt to load from CDN again, or</li>\\n\"+\n     \"<li>use INLINE resources instead, as so:</li>\\n\"+\n     \"</ul>\\n\"+\n     \"<code>\\n\"+\n     \"from bokeh.resources import INLINE\\n\"+\n     \"output_notebook(resources=INLINE)\\n\"+\n     \"</code>\\n\"+\n     \"</div>\"}};\n\n  function display_loaded() {\n    var el = document.getElementById(null);\n    if (el != null) {\n      el.textContent = \"BokehJS is loading...\";\n    }\n    if (root.Bokeh !== undefined) {\n      if (el != null) {\n        el.textContent = \"BokehJS \" + root.Bokeh.version + \" successfully loaded.\";\n      }\n    } else if (Date.now() < root._bokeh_timeout) {\n      setTimeout(display_loaded, 100)\n    }\n  }\n\n\n  function run_callbacks() {\n    try {\n      root._bokeh_onload_callbacks.forEach(function(callback) {\n        if (callback != null)\n          callback();\n      });\n    } finally {\n      delete root._bokeh_onload_callbacks\n    }\n    console.debug(\"Bokeh: all callbacks have finished\");\n  }\n\n  function load_libs(css_urls, js_urls, callback) {\n    if (css_urls == null) css_urls = [];\n    if (js_urls == null) js_urls = [];\n\n    root._bokeh_onload_callbacks.push(callback);\n    if (root._bokeh_is_loading > 0) {\n      console.debug(\"Bokeh: BokehJS is being loaded, scheduling callback at\", now());\n      return null;\n    }\n    if (js_urls == null || js_urls.length === 0) {\n      run_callbacks();\n      return null;\n    }\n    console.debug(\"Bokeh: BokehJS not loaded, scheduling load and callback at\", now());\n    root._bokeh_is_loading = css_urls.length + js_urls.length;\n\n    function on_load() {\n      root._bokeh_is_loading--;\n      if (root._bokeh_is_loading === 0) {\n        console.debug(\"Bokeh: all BokehJS libraries/stylesheets loaded\");\n        run_callbacks()\n      }\n    }\n\n    function on_error() {\n      console.error(\"failed to load \" + url);\n    }\n\n    for (var i = 0; i < css_urls.length; i++) {\n      var url = css_urls[i];\n      const element = document.createElement(\"link\");\n      element.onload = on_load;\n      element.onerror = on_error;\n      element.rel = \"stylesheet\";\n      element.type = \"text/css\";\n      element.href = url;\n      console.debug(\"Bokeh: injecting link tag for BokehJS stylesheet: \", url);\n      document.body.appendChild(element);\n    }\n\n    for (var i = 0; i < js_urls.length; i++) {\n      var url = js_urls[i];\n      var element = document.createElement('script');\n      element.onload = on_load;\n      element.onerror = on_error;\n      element.async = false;\n      element.src = url;\n      console.debug(\"Bokeh: injecting script tag for BokehJS library: \", url);\n      document.head.appendChild(element);\n    }\n  };\n\n  function inject_raw_css(css) {\n    const element = document.createElement(\"style\");\n    element.appendChild(document.createTextNode(css));\n    document.body.appendChild(element);\n  }\n\n  \n  var js_urls = [\"https://cdn.pydata.org/bokeh/release/bokeh-1.4.0.min.js\", \"https://cdn.pydata.org/bokeh/release/bokeh-widgets-1.4.0.min.js\", \"https://cdn.pydata.org/bokeh/release/bokeh-tables-1.4.0.min.js\", \"https://cdn.pydata.org/bokeh/release/bokeh-gl-1.4.0.min.js\"];\n  var css_urls = [];\n  \n\n  var inline_js = [\n    function(Bokeh) {\n      Bokeh.set_log_level(\"info\");\n    },\n    function(Bokeh) {\n    \n    \n    }\n  ];\n\n  function run_inline_js() {\n    \n    if (root.Bokeh !== undefined || force === true) {\n      \n    for (var i = 0; i < inline_js.length; i++) {\n      inline_js[i].call(root, root.Bokeh);\n    }\n    } else if (Date.now() < root._bokeh_timeout) {\n      setTimeout(run_inline_js, 100);\n    } else if (!root._bokeh_failed_load) {\n      console.log(\"Bokeh: BokehJS failed to load within specified timeout.\");\n      root._bokeh_failed_load = true;\n    } else if (force !== true) {\n      var cell = $(document.getElementById(null)).parents('.cell').data().cell;\n      cell.output_area.append_execute_result(NB_LOAD_WARNING)\n    }\n\n  }\n\n  if (root._bokeh_is_loading === 0) {\n    console.debug(\"Bokeh: BokehJS loaded, going straight to plotting\");\n    run_inline_js();\n  } else {\n    load_libs(css_urls, js_urls, function() {\n      console.debug(\"Bokeh: BokehJS plotting callback run at\", now());\n      run_inline_js();\n    });\n  }\n}(window));"
          },
          "metadata": {
            "tags": []
          }
        },
        {
          "output_type": "display_data",
          "data": {
            "text/html": [
              "\n",
              "\n",
              "\n",
              "\n",
              "\n",
              "\n",
              "  <div class=\"bk-root\" id=\"fac432d5-823c-4cc5-9ff4-90b7ab1feb80\" data-root-id=\"1001\"></div>\n"
            ]
          },
          "metadata": {
            "tags": []
          }
        },
        {
          "output_type": "display_data",
          "data": {
            "application/javascript": [
              "(function(root) {\n",
              "  function embed_document(root) {\n",
              "    \n",
              "  var docs_json = {\"ec22c8b3-3673-4c07-b814-b523b065af71\":{\"roots\":{\"references\":[{\"attributes\":{\"below\":[{\"id\":\"1012\",\"type\":\"LinearAxis\"}],\"center\":[{\"id\":\"1016\",\"type\":\"Grid\"},{\"id\":\"1021\",\"type\":\"Grid\"}],\"left\":[{\"id\":\"1017\",\"type\":\"LinearAxis\"}],\"plot_height\":400,\"renderers\":[{\"id\":\"1040\",\"type\":\"GlyphRenderer\"}],\"title\":{\"id\":\"1002\",\"type\":\"Title\"},\"toolbar\":{\"id\":\"1028\",\"type\":\"Toolbar\"},\"x_range\":{\"id\":\"1004\",\"type\":\"DataRange1d\"},\"x_scale\":{\"id\":\"1008\",\"type\":\"LinearScale\"},\"y_range\":{\"id\":\"1006\",\"type\":\"DataRange1d\"},\"y_scale\":{\"id\":\"1010\",\"type\":\"LinearScale\"}},\"id\":\"1001\",\"subtype\":\"Figure\",\"type\":\"Plot\"},{\"attributes\":{\"ticker\":{\"id\":\"1013\",\"type\":\"BasicTicker\"}},\"id\":\"1016\",\"type\":\"Grid\"},{\"attributes\":{\"axis_label\":\"Dollars\",\"formatter\":{\"id\":\"1035\",\"type\":\"NumeralTickFormatter\"},\"ticker\":{\"id\":\"1018\",\"type\":\"BasicTicker\"}},\"id\":\"1017\",\"type\":\"LinearAxis\"},{\"attributes\":{\"bottom_units\":\"screen\",\"fill_alpha\":{\"value\":0.5},\"fill_color\":{\"value\":\"lightgrey\"},\"left_units\":\"screen\",\"level\":\"overlay\",\"line_alpha\":{\"value\":1.0},\"line_color\":{\"value\":\"black\"},\"line_dash\":[4,4],\"line_width\":{\"value\":2},\"render_mode\":\"css\",\"right_units\":\"screen\",\"top_units\":\"screen\"},\"id\":\"1046\",\"type\":\"BoxAnnotation\"},{\"attributes\":{},\"id\":\"1018\",\"type\":\"BasicTicker\"},{\"attributes\":{},\"id\":\"1047\",\"type\":\"UnionRenderers\"},{\"attributes\":{\"dimension\":1,\"ticker\":{\"id\":\"1018\",\"type\":\"BasicTicker\"}},\"id\":\"1021\",\"type\":\"Grid\"},{\"attributes\":{\"active_drag\":\"auto\",\"active_inspect\":\"auto\",\"active_multi\":null,\"active_scroll\":\"auto\",\"active_tap\":\"auto\",\"tools\":[{\"id\":\"1022\",\"type\":\"PanTool\"},{\"id\":\"1023\",\"type\":\"WheelZoomTool\"},{\"id\":\"1024\",\"type\":\"BoxZoomTool\"},{\"id\":\"1025\",\"type\":\"SaveTool\"},{\"id\":\"1026\",\"type\":\"ResetTool\"},{\"id\":\"1027\",\"type\":\"HelpTool\"}]},\"id\":\"1028\",\"type\":\"Toolbar\"},{\"attributes\":{},\"id\":\"1048\",\"type\":\"Selection\"},{\"attributes\":{\"callback\":null,\"data\":{\"x\":[0,3,6,9,12,15,18,21,24,27,30,33,36,39,42,45],\"y\":[0,0,0,-600000,-1200000,-1080000,-960000,-840000,-720000,-600000,-480000,-360000,-240000,-120000,0,120000]},\"selected\":{\"id\":\"1048\",\"type\":\"Selection\"},\"selection_policy\":{\"id\":\"1047\",\"type\":\"UnionRenderers\"}},\"id\":\"1037\",\"type\":\"ColumnDataSource\"},{\"attributes\":{},\"id\":\"1045\",\"type\":\"BasicTickFormatter\"},{\"attributes\":{},\"id\":\"1022\",\"type\":\"PanTool\"},{\"attributes\":{},\"id\":\"1023\",\"type\":\"WheelZoomTool\"},{\"attributes\":{\"line_alpha\":0.1,\"line_color\":\"#1f77b4\",\"x\":{\"field\":\"x\"},\"y\":{\"field\":\"y\"}},\"id\":\"1039\",\"type\":\"Line\"},{\"attributes\":{\"overlay\":{\"id\":\"1046\",\"type\":\"BoxAnnotation\"}},\"id\":\"1024\",\"type\":\"BoxZoomTool\"},{\"attributes\":{\"text\":\"Cash\"},\"id\":\"1002\",\"type\":\"Title\"},{\"attributes\":{},\"id\":\"1025\",\"type\":\"SaveTool\"},{\"attributes\":{\"format\":\"$0\"},\"id\":\"1035\",\"type\":\"NumeralTickFormatter\"},{\"attributes\":{},\"id\":\"1026\",\"type\":\"ResetTool\"},{\"attributes\":{\"line_color\":\"#1f77b4\",\"x\":{\"field\":\"x\"},\"y\":{\"field\":\"y\"}},\"id\":\"1038\",\"type\":\"Line\"},{\"attributes\":{\"callback\":null},\"id\":\"1004\",\"type\":\"DataRange1d\"},{\"attributes\":{},\"id\":\"1027\",\"type\":\"HelpTool\"},{\"attributes\":{\"callback\":null},\"id\":\"1006\",\"type\":\"DataRange1d\"},{\"attributes\":{},\"id\":\"1008\",\"type\":\"LinearScale\"},{\"attributes\":{\"data_source\":{\"id\":\"1037\",\"type\":\"ColumnDataSource\"},\"glyph\":{\"id\":\"1038\",\"type\":\"Line\"},\"hover_glyph\":null,\"muted_glyph\":null,\"nonselection_glyph\":{\"id\":\"1039\",\"type\":\"Line\"},\"selection_glyph\":null,\"view\":{\"id\":\"1041\",\"type\":\"CDSView\"}},\"id\":\"1040\",\"type\":\"GlyphRenderer\"},{\"attributes\":{},\"id\":\"1010\",\"type\":\"LinearScale\"},{\"attributes\":{\"axis_label\":\"Months\",\"formatter\":{\"id\":\"1045\",\"type\":\"BasicTickFormatter\"},\"ticker\":{\"id\":\"1013\",\"type\":\"BasicTicker\"}},\"id\":\"1012\",\"type\":\"LinearAxis\"},{\"attributes\":{\"source\":{\"id\":\"1037\",\"type\":\"ColumnDataSource\"}},\"id\":\"1041\",\"type\":\"CDSView\"},{\"attributes\":{},\"id\":\"1013\",\"type\":\"BasicTicker\"}],\"root_ids\":[\"1001\"]},\"title\":\"Bokeh Application\",\"version\":\"1.4.0\"}};\n",
              "  var render_items = [{\"docid\":\"ec22c8b3-3673-4c07-b814-b523b065af71\",\"roots\":{\"1001\":\"fac432d5-823c-4cc5-9ff4-90b7ab1feb80\"}}];\n",
              "  root.Bokeh.embed.embed_items_notebook(docs_json, render_items);\n",
              "\n",
              "  }\n",
              "  if (root.Bokeh !== undefined) {\n",
              "    embed_document(root);\n",
              "  } else {\n",
              "    var attempts = 0;\n",
              "    var timer = setInterval(function(root) {\n",
              "      if (root.Bokeh !== undefined) {\n",
              "        clearInterval(timer);\n",
              "        embed_document(root);\n",
              "      } else {\n",
              "        attempts++;\n",
              "        if (attempts > 100) {\n",
              "          clearInterval(timer);\n",
              "          console.log(\"Bokeh: ERROR: Unable to run BokehJS code because BokehJS library is missing\");\n",
              "        }\n",
              "      }\n",
              "    }, 10, root)\n",
              "  }\n",
              "})(window);"
            ],
            "application/vnd.bokehjs_exec.v0+json": ""
          },
          "metadata": {
            "tags": [],
            "application/vnd.bokehjs_exec.v0+json": {
              "id": "1001"
            }
          }
        }
      ]
    },
    {
      "cell_type": "markdown",
      "metadata": {
        "id": "RneqPxezLT_1"
      },
      "source": [
        "## This is why bootcamps raise money\n",
        "\n",
        "🤑🤑🤑\n",
        "\n",
        "That cool million-point-two has to come from somewhere.\n",
        "\n",
        "Some bootcamps raise venture capital money, selling a piece of their company. Some charge tuition up front, putting the burden on students to take out loans if they don't have the cash. Some finance their contracts with students, essentially taking out a loan based on the assumption that students will eventually pay back their tuition.\n",
        "\n",
        "We're not going to dig into how bootcamps make their bank accounts work. This chart is mostly to point to the reason why they need _something_ in place to solve this problem."
      ]
    },
    {
      "cell_type": "markdown",
      "metadata": {
        "id": "eS7OCzCiWFO0"
      },
      "source": [
        "# Funnels and Conversion Rates\n",
        "\n",
        "Let's dig into some of the numbers in the model.\n",
        "\n",
        "Each of the numbers is an assumption about our bootcamp. We can break those assumptions into smaller pieces, spell out what goes into them, and write down formulas for what's going on.\n",
        "\n",
        "We'll start with the enrollment, graduation, and placement rates on the right side of the `@`s. Later on, we'll dive into the factors that make up the costs."
      ]
    },
    {
      "cell_type": "markdown",
      "metadata": {
        "id": "QcJtDCUNYOyd"
      },
      "source": [
        "## Enrollment\n",
        "\n",
        "We picked 1000 as the number of prospective students, and 10% as the conversion rate from prospective student to enrollment. \n",
        "\n",
        "Let's explode those numbers into a more complicated model - the bootcamp marketing and admissions funnel."
      ]
    },
    {
      "cell_type": "markdown",
      "metadata": {
        "id": "bKeAR3bRrz4R"
      },
      "source": [
        "### Marketing and Admissions Funnel\n",
        "\n",
        "Sales and marketing folks love their funnels.\n",
        "\n",
        "If you look at a bar graph of marketing stages, with the stages laid chronologically down the y-axis and counts of customers as centered bars along the x-axis, it looks like an inverted triangle.\n",
        "\n",
        "![sales funnel](https://upload.wikimedia.org/wikipedia/commons/b/b3/The_Purchase_Funnel.jpg)\n",
        "\n",
        "Each stage in the funnel usually has some associated steps that the marketing or sales team can do to increase conversions to the next step in the funnel.\n",
        "\n",
        "Bootcamps are similar. The difference is that they apply filtering steps to their funnel. Students apply to the bootcamp, and sometimes have interviews to get in.\n",
        "\n",
        "The original model had\n",
        "\n",
        "```\n",
        "[World]       > Prospectives    @ 1000\n",
        "Prospectives  > Students        @ 0.1\n",
        "```\n",
        "\n",
        "Let's add some steps.\n",
        "\n",
        "People in the world first become **aware** of bootcamps at some rate (e.g. click on an ad, or visit the landing page). Some of those **aware** people, upon being marketed to (or so the story goes) become **interested** in the bootcamp. Some of those interested prospects **apply** to the bootcamp. Those applicants become **interviews** at some rate, as some applications are rejected, and some applicants don't show up for interviews. Interviewees are **admitted** at some rate, and some of the admitted students decide to **enroll**.\n",
        "\n",
        "Different bootcamps may break this down into different steps, but we'll call it close enough.\n",
        "\n",
        "Let's pick assumptions so that we still end up with results that are close to the original numbers."
      ]
    },
    {
      "cell_type": "code",
      "metadata": {
        "id": "qMAIR56ywTSg",
        "colab": {
          "base_uri": "https://localhost:8080/",
          "height": 34
        },
        "outputId": "b69bf1ac-f676-4dda-8ba9-26684c5a84cd"
      },
      "source": [
        "awareness_rate = 10000\n",
        "interested_rate = 0.1\n",
        "# 1000 new Prospectives\n",
        "\n",
        "application_rate = 0.5\n",
        "reject_rate = 0.3 # So, 7/10 applicants get an interview\n",
        "no_show_rate = 0.1 # 1/10 interviewees doesn't show up\n",
        "interview_rate = (1 - reject_rate) * (1 - no_show_rate)\n",
        "interview_pass_rate = 0.5 # half of interviewees pass\n",
        "enrollment_rate = 0.65 # 65% of admitted students enroll\n",
        "\n",
        "# overall conversion from Prospective \n",
        "overall_conversion_rate = application_rate * interview_rate * interview_pass_rate * enrollment_rate\n",
        "\n",
        "marketing_admissions_spec = f\"\"\"\n",
        "[World]     > Aware         @ {awareness_rate}\n",
        "Aware       > Interested    @ {interested_rate}\n",
        "Interested  > Applicants    @ {application_rate}\n",
        "Applicants  > Interviews    @ {interview_rate}\n",
        "Interviews  > Admitted      @ {interview_pass_rate}\n",
        "Admitted    > Students      @ {enrollment_rate}\n",
        "\"\"\"\n",
        "marketing_admissions_model = parse(marketing_admissions_spec)\n",
        "print(overall_conversion_rate) "
      ],
      "execution_count": null,
      "outputs": [
        {
          "output_type": "stream",
          "text": [
            "0.10237500000000001\n"
          ],
          "name": "stdout"
        }
      ]
    },
    {
      "cell_type": "markdown",
      "metadata": {
        "id": "a-hpl1Hv0B0N"
      },
      "source": [
        "I picked the numbers so that we got close to our original 1000 prospects and `10%` enrollment, but these rates are probably within reason for bootcamps.\n",
        "\n",
        "We end up with 102 students enrolled each tick instead of the 100 from the original model."
      ]
    },
    {
      "cell_type": "code",
      "metadata": {
        "id": "CB1xSxE472I_",
        "colab": {
          "base_uri": "https://localhost:8080/",
          "height": 195
        },
        "outputId": "0ca9408a-0a9c-43b5-c7a2-6d6976049782"
      },
      "source": [
        "marketing_admissions_results = marketing_admissions_model.run(rounds=8)\n",
        "marketing_admissions_rendered = marketing_admissions_model.render_html(marketing_admissions_results)\n",
        "HTML(marketing_admissions_rendered)"
      ],
      "execution_count": null,
      "outputs": [
        {
          "output_type": "execute_result",
          "data": {
            "text/html": [
              "<table>\n",
              "<theader>\n",
              "<tr>\n",
              "<td><strong>Round</strong></td>\n",
              "<td><strong>Aware</strong></td>\n",
              "<td><strong>Interested</strong></td>\n",
              "<td><strong>Applicants</strong></td>\n",
              "<td><strong>Interviews</strong></td>\n",
              "<td><strong>Admitted</strong></td>\n",
              "<td><strong>Students</strong></td>\n",
              "</tr>\n",
              "</theader>\n",
              "<tbody>\n",
              "<tr><td>0</td><td>0</td><td>0</td><td>0</td><td>0</td><td>0</td><td>0</td></tr>\n",
              "<tr><td>1</td><td>10000</td><td>0</td><td>0</td><td>0</td><td>0</td><td>0</td></tr>\n",
              "<tr><td>2</td><td>10000</td><td>1000</td><td>0</td><td>0</td><td>0</td><td>0</td></tr>\n",
              "<tr><td>3</td><td>10000</td><td>1000</td><td>500</td><td>0</td><td>0</td><td>0</td></tr>\n",
              "<tr><td>4</td><td>10000</td><td>1000</td><td>500</td><td>315</td><td>0</td><td>0</td></tr>\n",
              "<tr><td>5</td><td>10000</td><td>1000</td><td>500</td><td>315</td><td>157</td><td>0</td></tr>\n",
              "<tr><td>6</td><td>10000</td><td>1000</td><td>500</td><td>315</td><td>157</td><td>102</td></tr>\n",
              "<tr><td>7</td><td>10000</td><td>1000</td><td>500</td><td>315</td><td>157</td><td>204</td></tr>\n",
              "<tr><td>8</td><td>10000</td><td>1000</td><td>500</td><td>315</td><td>157</td><td>306</td></tr>\n",
              "</tbody>\n",
              "</table>"
            ],
            "text/plain": [
              "<IPython.core.display.HTML object>"
            ]
          },
          "metadata": {
            "tags": []
          },
          "execution_count": 7
        }
      ]
    },
    {
      "cell_type": "markdown",
      "metadata": {
        "id": "ZUUdgxwLu60s"
      },
      "source": [
        "Note that round 6 here is when we get our first students. That was Round 1 of the earlier model. The ticks probably don't make as much sense here, this is just illustrative."
      ]
    },
    {
      "cell_type": "markdown",
      "metadata": {
        "id": "oofwYBJdY5KO"
      },
      "source": [
        "## Graduation Rate\n",
        "\n",
        "Let's pick apart the next number we made up - the 85% graduation rate.\n",
        "\n",
        "In the simplified model:\n",
        "\n",
        "```\n",
        "Students      > Graduates       @ 0.85\n",
        "```\n",
        "\n",
        "Schools don't randomly graduate 85% of their students. Programs see students drop out if they have life events that prevent them from continuing, or if they don't pass an assessment. Some students decide that the program isn't for them, and drop out. Online, some students fade out over time, moving through the curriculum slower and slower, and finally stopping forward progress.\n",
        "\n",
        "For our model, let's split the program into some number of _modules_, and say that for each module, there's a chance of dropping out, and a chance of not passing a gating assessment.\n",
        "\n",
        "For most programs, these rates are not the same for every module. Some programs may see lots of students decide early on that the program isn't for them. Some programs may have a difficult assessment in a particular module.\n",
        "\n",
        "For the simplicity of the code, we're going to say that all the modules in the bootcamp see the same rate of dropoff and pass rate."
      ]
    },
    {
      "cell_type": "code",
      "metadata": {
        "id": "Sl54Xd2Soe4V",
        "colab": {
          "base_uri": "https://localhost:8080/",
          "height": 142
        },
        "outputId": "419be39c-246d-47d1-adb4-c422901d12c5"
      },
      "source": [
        "num_modules = 4\n",
        "dropout_chance = .01\n",
        "module_pass_rate = .97\n",
        "graduation_rate = (module_pass_rate - dropout_chance) ** num_modules\n",
        "\n",
        "graduation_spec = f\"\"\"\n",
        "[Prospects] > Students   @ 102\n",
        "Students      > Graduates       @ {graduation_rate}\n",
        "\"\"\"\n",
        "graduation_model = parse(graduation_spec)\n",
        "print(f\"graduation_rate: {graduation_rate}\")\n",
        "\n",
        "graduation_results = graduation_model.run(rounds=4)\n",
        "graduation_rendered = graduation_model.render_html(graduation_results)\n",
        "HTML(graduation_rendered)"
      ],
      "execution_count": null,
      "outputs": [
        {
          "output_type": "stream",
          "text": [
            "graduation_rate: 0.8493465599999999\n"
          ],
          "name": "stdout"
        },
        {
          "output_type": "execute_result",
          "data": {
            "text/html": [
              "<table>\n",
              "<theader>\n",
              "<tr>\n",
              "<td><strong>Round</strong></td>\n",
              "<td><strong>Students</strong></td>\n",
              "<td><strong>Graduates</strong></td>\n",
              "</tr>\n",
              "</theader>\n",
              "<tbody>\n",
              "<tr><td>0</td><td>0</td><td>0</td></tr>\n",
              "<tr><td>1</td><td>102</td><td>0</td></tr>\n",
              "<tr><td>2</td><td>102</td><td>86</td></tr>\n",
              "<tr><td>3</td><td>102</td><td>172</td></tr>\n",
              "<tr><td>4</td><td>102</td><td>258</td></tr>\n",
              "</tbody>\n",
              "</table>"
            ],
            "text/plain": [
              "<IPython.core.display.HTML object>"
            ]
          },
          "metadata": {
            "tags": []
          },
          "execution_count": 8
        }
      ]
    },
    {
      "cell_type": "markdown",
      "metadata": {
        "id": "60B4NZ199G7v"
      },
      "source": [
        "We get close to our earlier `85%` assumption if we let our bootcamp have 4 modules, each with a `1%` chance of dropping out and a `97%` chance of passing the end-of-module assessment.\n",
        "\n",
        "Note: I had to drop into python for these, since the systems library can't do exponents."
      ]
    },
    {
      "cell_type": "markdown",
      "metadata": {
        "id": "gco6NaUmd4bB"
      },
      "source": [
        "## The Job Search\n",
        "\n",
        "```\n",
        "Graduates     > Placed          @ 0.85\n",
        "```\n",
        "\n",
        "If only it were so simple.\n",
        "\n",
        "After students graduate, they take some time to polish their resume and portfolio projects, find companies with job openings that fit their skills and interests, and start applying to jobs.\n",
        "\n",
        "Some bootcamps have a career services, employer partnerships, or job placement team that helps connect students to employers and successfully land a job.\n",
        "\n",
        "Other bootcamps leave this step entirely up to the student.\n",
        "\n",
        "Some bootcamps partner with external services for all or part of this career services and job hunt stage.\n",
        "\n",
        "There's lots of different ways to adjust job search variables. I'm picking ones that are easy to model."
      ]
    },
    {
      "cell_type": "code",
      "metadata": {
        "id": "ux_MNSmR_K7X",
        "colab": {
          "base_uri": "https://localhost:8080/",
          "height": 34
        },
        "outputId": "85a3af10-cc56-46dc-9572-27f3bfea1e5c"
      },
      "source": [
        "job_app_rate = 20 # how many applications does a student submit?\n",
        "phone_screen_rate = 0.1 # fraction of applications submitted result in a passed phone screen?\n",
        "onsite_rate = 0.3 # fraction of passed phone screens result in a passed onsite?\n",
        "accept_rate = 0.95 # fraction of passed onsites resulting in accepted offers\n",
        "placement_rate = job_app_rate * phone_screen_rate * onsite_rate * accept_rate\n",
        "print(placement_rate)"
      ],
      "execution_count": null,
      "outputs": [
        {
          "output_type": "stream",
          "text": [
            "0.57\n"
          ],
          "name": "stdout"
        }
      ]
    },
    {
      "cell_type": "markdown",
      "metadata": {
        "id": "yZQzHWoZBKna"
      },
      "source": [
        "By tweaking these numbers, we can find rates that get students jobs after a certain number of applications. It's probably more random than this - students are different in their interests, skills, and how they interview."
      ]
    },
    {
      "cell_type": "markdown",
      "metadata": {
        "id": "4gikOO9VElQJ"
      },
      "source": [
        "To make this slightly closer to the real world, grads do not stop job searching after one tick. Most 3 month bootcamps count placements in the 6 months following graduation, so we'll count placements for two ticks."
      ]
    },
    {
      "cell_type": "code",
      "metadata": {
        "id": "3F5OAi3fE7cl",
        "colab": {
          "base_uri": "https://localhost:8080/",
          "height": 142
        },
        "outputId": "3146eab2-97bd-4cc5-dc67-2e69f02fa38e"
      },
      "source": [
        "placement_rate = job_app_rate * phone_screen_rate * onsite_rate * accept_rate\n",
        "placement_spec = f\"\"\"\n",
        "[Students]     > Graduates(86)    @ 86\n",
        "Graduates      > Searchers        @ Conversion(1 - {placement_rate})\n",
        "Searchers      > NotPlaced        @ Conversion(1 - {placement_rate})\n",
        "[AllSearchers] > Placed           @ (Graduates + Searchers) * {placement_rate}\n",
        "\"\"\"\n",
        "placement_model = parse(placement_spec)\n",
        "placement_results = placement_model.run(rounds=5)\n",
        "placement_rendered = placement_model.render_html(placement_results)\n",
        "HTML(placement_rendered)"
      ],
      "execution_count": null,
      "outputs": [
        {
          "output_type": "execute_result",
          "data": {
            "text/html": [
              "<table>\n",
              "<theader>\n",
              "<tr>\n",
              "<td><strong>Round</strong></td>\n",
              "<td><strong>Graduates</strong></td>\n",
              "<td><strong>Searchers</strong></td>\n",
              "<td><strong>NotPlaced</strong></td>\n",
              "<td><strong>Placed</strong></td>\n",
              "</tr>\n",
              "</theader>\n",
              "<tbody>\n",
              "<tr><td>0</td><td>86</td><td>0</td><td>0</td><td>0</td></tr>\n",
              "<tr><td>1</td><td>86</td><td>36</td><td>0</td><td>49.019999999999996</td></tr>\n",
              "<tr><td>2</td><td>86</td><td>36</td><td>15</td><td>118.55999999999999</td></tr>\n",
              "<tr><td>3</td><td>86</td><td>36</td><td>30</td><td>188.09999999999997</td></tr>\n",
              "<tr><td>4</td><td>86</td><td>36</td><td>45</td><td>257.64</td></tr>\n",
              "<tr><td>5</td><td>86</td><td>36</td><td>60</td><td>327.17999999999995</td></tr>\n",
              "</tbody>\n",
              "</table>"
            ],
            "text/plain": [
              "<IPython.core.display.HTML object>"
            ]
          },
          "metadata": {
            "tags": []
          },
          "execution_count": 10
        }
      ]
    },
    {
      "cell_type": "markdown",
      "metadata": {
        "id": "g3x8YrSBNErg"
      },
      "source": [
        "We end up with our overall placement rate of `85%` by picking numbers so that the placement rate _per tick_ is `57%`. That means that a lot of job searching grads will end up taking more than the length of the bootcamp to find a job."
      ]
    },
    {
      "cell_type": "markdown",
      "metadata": {
        "id": "k6VLR8A9WfpS"
      },
      "source": [
        "# Costs of a bootcamp\n",
        "\n",
        "Now let's take a closer look at what goes into those CAC and COGS numbers.\n",
        "\n",
        "Note: We're still going to leave out a bunch of things that a real bootcamp would have in its financials. Overhead, curriculum development, engineering and product, the list goes on."
      ]
    },
    {
      "cell_type": "markdown",
      "metadata": {
        "id": "vC8w6INCf61-"
      },
      "source": [
        "## What costs go into CAC?\n",
        "\n",
        "Let's take the marketing and admissions funnel steps that we defined above and attach cost numbers to each step.\n",
        "\n",
        "- Digital Marketing spend\n",
        "  - Paid Search\n",
        "  - Paid Social\n",
        "- Marketing overhead\n",
        "- Admissions application review\n",
        "- Admissions interviews\n",
        "\n",
        "Real accountants and finance folks might not put all of this stuff into CAC (especially marketing overhead). In my experience, these costs behave like CAC costs do - they tend to scale with revenue. I'm lumping them in.\n"
      ]
    },
    {
      "cell_type": "markdown",
      "metadata": {
        "id": "8fKY_zfkcFjQ"
      },
      "source": [
        "Picking numbers does make our CAC calculation more complicated.\n",
        "\n",
        "Each of these costs are the cost to get a prospective student to the next step in the funnel.\n",
        "\n",
        "You end up paying \n",
        "```\n",
        "price / (product of subsequent steps conversion rates)`\n",
        "```\n",
        "for each of these steps."
      ]
    },
    {
      "cell_type": "code",
      "metadata": {
        "id": "4m-cF-yBcNmL",
        "colab": {
          "base_uri": "https://localhost:8080/",
          "height": 177
        },
        "outputId": "a841901b-562e-4e72-9ca8-093addc3574f"
      },
      "source": [
        "paid_social = 5\n",
        "paid_search = 15\n",
        "application_review = 10\n",
        "admissions_interview = 40\n",
        "marketing_admissions_overhead = 200\n",
        "\n",
        "cac_spec = f\"\"\"\n",
        "[World]     > Aware         @ {awareness_rate}\n",
        "Aware       > Interested    @ {interested_rate}\n",
        "Interested  > Applicants    @ {application_rate}\n",
        "Applicants  > Interviews    @ {interview_rate}\n",
        "Interviews  > Admitted      @ {interview_pass_rate}\n",
        "Admitted    > Students      @ {enrollment_rate}\n",
        "\n",
        "[money] > PaidSocial        @ Aware * {paid_social}\n",
        "[money] > PaidSearch        @ Interested * {paid_search}\n",
        "[money] > Application       @ Applicants * {application_review}\n",
        "[money] > Interview         @ Interviews * {admissions_interview}\n",
        "[money] > Overhead          @ Admitted * {marketing_admissions_overhead}\n",
        "\"\"\"\n",
        "\n",
        "cac_model = parse(cac_spec)\n",
        "cac_results = cac_model.run(rounds=7)\n",
        "cac_rendered = cac_model.render_html(cac_results)\n",
        "HTML(cac_rendered)"
      ],
      "execution_count": null,
      "outputs": [
        {
          "output_type": "execute_result",
          "data": {
            "text/html": [
              "<table>\n",
              "<theader>\n",
              "<tr>\n",
              "<td><strong>Round</strong></td>\n",
              "<td><strong>Aware</strong></td>\n",
              "<td><strong>Interested</strong></td>\n",
              "<td><strong>Applicants</strong></td>\n",
              "<td><strong>Interviews</strong></td>\n",
              "<td><strong>Admitted</strong></td>\n",
              "<td><strong>Students</strong></td>\n",
              "<td><strong>PaidSocial</strong></td>\n",
              "<td><strong>PaidSearch</strong></td>\n",
              "<td><strong>Application</strong></td>\n",
              "<td><strong>Interview</strong></td>\n",
              "<td><strong>Overhead</strong></td>\n",
              "</tr>\n",
              "</theader>\n",
              "<tbody>\n",
              "<tr><td>0</td><td>0</td><td>0</td><td>0</td><td>0</td><td>0</td><td>0</td><td>0</td><td>0</td><td>0</td><td>0</td><td>0</td></tr>\n",
              "<tr><td>1</td><td>10000</td><td>0</td><td>0</td><td>0</td><td>0</td><td>0</td><td>0</td><td>0</td><td>0</td><td>0</td><td>0</td></tr>\n",
              "<tr><td>2</td><td>10000</td><td>1000</td><td>0</td><td>0</td><td>0</td><td>0</td><td>50000</td><td>0</td><td>0</td><td>0</td><td>0</td></tr>\n",
              "<tr><td>3</td><td>10000</td><td>1000</td><td>500</td><td>0</td><td>0</td><td>0</td><td>100000</td><td>15000</td><td>0</td><td>0</td><td>0</td></tr>\n",
              "<tr><td>4</td><td>10000</td><td>1000</td><td>500</td><td>315</td><td>0</td><td>0</td><td>150000</td><td>30000</td><td>5000</td><td>0</td><td>0</td></tr>\n",
              "<tr><td>5</td><td>10000</td><td>1000</td><td>500</td><td>315</td><td>157</td><td>0</td><td>200000</td><td>45000</td><td>10000</td><td>12600</td><td>0</td></tr>\n",
              "<tr><td>6</td><td>10000</td><td>1000</td><td>500</td><td>315</td><td>157</td><td>102</td><td>250000</td><td>60000</td><td>15000</td><td>25200</td><td>31400</td></tr>\n",
              "<tr><td>7</td><td>10000</td><td>1000</td><td>500</td><td>315</td><td>157</td><td>204</td><td>300000</td><td>75000</td><td>20000</td><td>37800</td><td>62800</td></tr>\n",
              "</tbody>\n",
              "</table>"
            ],
            "text/plain": [
              "<IPython.core.display.HTML object>"
            ]
          },
          "metadata": {
            "tags": []
          },
          "execution_count": 11
        }
      ]
    },
    {
      "cell_type": "code",
      "metadata": {
        "id": "4i8t5QEK8Inn",
        "colab": {
          "base_uri": "https://localhost:8080/",
          "height": 141
        },
        "outputId": "05890d04-c5dd-4582-d8eb-a7eef497dd03"
      },
      "source": [
        "def get_per_tick(name, results):\n",
        "  return results[-1][name] - results[-2][name]\n",
        "\n",
        "cac = [\n",
        "    (\"PaidSocial\", get_per_tick(\"PaidSocial\", cac_results) / get_per_tick(\"Students\", cac_results)),\n",
        "    (\"PaidSearch\", get_per_tick(\"PaidSearch\", cac_results) / get_per_tick(\"Students\", cac_results)),\n",
        "    (\"Application\", get_per_tick(\"Application\", cac_results) / get_per_tick(\"Students\", cac_results)),\n",
        "    (\"Interview\", get_per_tick(\"Interview\", cac_results) / get_per_tick(\"Students\", cac_results)),\n",
        "    (\"Overhead\", get_per_tick(\"Overhead\", cac_results) / get_per_tick(\"Students\", cac_results)),\n",
        "]\n",
        "\n",
        "pprint.pprint(cac)\n",
        "total = sum([y for (x,y) in cac])\n",
        "print(f\"\\ntotal: {total}\")"
      ],
      "execution_count": null,
      "outputs": [
        {
          "output_type": "stream",
          "text": [
            "[('PaidSocial', 490.19607843137254),\n",
            " ('PaidSearch', 147.05882352941177),\n",
            " ('Application', 49.01960784313726),\n",
            " ('Interview', 123.52941176470588),\n",
            " ('Overhead', 307.84313725490193)]\n",
            "\n",
            "total: 1117.6470588235293\n"
          ],
          "name": "stdout"
        }
      ]
    },
    {
      "cell_type": "markdown",
      "metadata": {
        "id": "ZdGDu3d3fsN0"
      },
      "source": [
        "So, on a per-student basis, this works out to about\n",
        "\n",
        "* `$490` on paid social\n",
        "* `$146` on paid search\n",
        "* `$49` on reviewing applications\n",
        "* `$124` interviewing\n",
        "* `$307` on marketing and admissions overhead\n",
        "\n",
        "For a total CAC of `$1118` per enrollment.\n",
        "\n",
        "I think these are reasonable guesses for spend at each stage - if you have better numbers, try yours! \n",
        "\n",
        "We're also in the ballpark of the $1000 we estimated in our naive model.\n",
        "\n",
        "**Wait!**\n",
        "\n",
        "There's still that pesky `1.4` multiplier we've got to deal with. If our imaginary bootcamp wants to get _paid_, we have to graduate and place students - not just enroll them.\n",
        "\n",
        "The CAC on a _per-placement_ basis comes out to `$1564`."
      ]
    },
    {
      "cell_type": "markdown",
      "metadata": {
        "id": "ng8YdJsdhLup"
      },
      "source": [
        "## What costs go into COGS?\n",
        "\n",
        "For bootcamp cost modeling, its really important to figure out how much it costs to teach students to code.\n",
        "\n",
        "Like most businesses, staff is a big cost.\n",
        "\n",
        "Bootcamps tend to employ two kinds of instructional staff - **instructors** and **coaches**. (The names are different at different bootcamps, but the roles are usually similar). Instructors are more senior, often having some experience in the industry. Coaches are frequently recent graduates of the program.\n",
        "\n",
        "In-person bootcamps also have to pay for the costs of running their **space**. Since this cost goes up when schools have more students, I'm including it in COGS, though it might 'properly' be called OPEX or something.\n",
        "\n",
        "Also included in COGS are the costs for placing students in jobs. For the model, this is going to boil down to staff costs for **employer partnerships** and **career coaches**.\n",
        "\n",
        "COGS also ought to include whatever other miscellaneous money that goes up for every student - snacks, swag, graduation certificates, textbooks, licenses, hosting fees for websites, etc. I'm dumping all this into a little **other** variable and calling it a day.\n",
        "\n",
        "I'm making informed guesses about salaries, but in reality there's a wide range. Actual salaries vary by region, experience, and other factors."
      ]
    },
    {
      "cell_type": "code",
      "metadata": {
        "id": "9Cu_kNeKllNG",
        "colab": {
          "base_uri": "https://localhost:8080/",
          "height": 177
        },
        "outputId": "dfd667d5-b4b7-4ec2-d051-5cb7b374d389"
      },
      "source": [
        "# Instructional staff\n",
        "student_instructor_ratio = 1/30\n",
        "student_coach_ratio = 1/10\n",
        "instructor_annual = 125000\n",
        "coach_annual = 70000\n",
        "\n",
        "# Space\n",
        "space_cost_per_student = 400\n",
        "\n",
        "# Career Services\n",
        "employer_partner_ratio = 1/150\n",
        "career_coach_ratio = 1/30\n",
        "employer_partner_annual = 70000\n",
        "career_coach_annual = 55000\n",
        "\n",
        "# Miscellaneous\n",
        "other = 50\n",
        "ticks_per_year = 4\n",
        "\n",
        "cogs_spec = f\"\"\"\n",
        "[Prospective] > Students        @ 100\n",
        "Students      > Graduates       @ 0.85\n",
        "Graduates     > Placed        @ 0.85\n",
        "\n",
        "[money]       > Instructors      @ (Students * {student_instructor_ratio} * {instructor_annual} / {ticks_per_year})\n",
        "[money]       > Coaches          @ (Students * {student_coach_ratio} * {coach_annual} / {ticks_per_year})\n",
        "[money]       > Space            @ (Students * {space_cost_per_student})\n",
        "[money]       > Other            @ (Students * {other})\n",
        "[money]       > EmployerPartners @ (Graduates * {employer_partner_ratio} * {employer_partner_annual} / {ticks_per_year})\n",
        "[money]       > CareerCoaches    @ (Graduates * {career_coach_ratio} * {career_coach_annual} / {ticks_per_year})\n",
        "\"\"\"\n",
        "\n",
        "cogs_model = parse(cogs_spec)\n",
        "cogs_results = cogs_model.run(rounds=7)\n",
        "cogs_rendered = cogs_model.render_html(cogs_results)\n",
        "HTML(cogs_rendered)"
      ],
      "execution_count": null,
      "outputs": [
        {
          "output_type": "execute_result",
          "data": {
            "text/html": [
              "<table>\n",
              "<theader>\n",
              "<tr>\n",
              "<td><strong>Round</strong></td>\n",
              "<td><strong>Students</strong></td>\n",
              "<td><strong>Graduates</strong></td>\n",
              "<td><strong>Placed</strong></td>\n",
              "<td><strong>Instructors</strong></td>\n",
              "<td><strong>Coaches</strong></td>\n",
              "<td><strong>Space</strong></td>\n",
              "<td><strong>Other</strong></td>\n",
              "<td><strong>EmployerPartners</strong></td>\n",
              "<td><strong>CareerCoaches</strong></td>\n",
              "</tr>\n",
              "</theader>\n",
              "<tbody>\n",
              "<tr><td>0</td><td>0</td><td>0</td><td>0</td><td>0</td><td>0</td><td>0</td><td>0</td><td>0</td><td>0</td></tr>\n",
              "<tr><td>1</td><td>100</td><td>0</td><td>0</td><td>0</td><td>0</td><td>0</td><td>0</td><td>0</td><td>0</td></tr>\n",
              "<tr><td>2</td><td>100</td><td>85</td><td>0</td><td>104166.66666666667</td><td>175000.0</td><td>40000</td><td>5000</td><td>0</td><td>0</td></tr>\n",
              "<tr><td>3</td><td>100</td><td>85</td><td>72</td><td>208333.33333333334</td><td>350000.0</td><td>80000</td><td>10000</td><td>9916.666666666666</td><td>38958.333333333336</td></tr>\n",
              "<tr><td>4</td><td>100</td><td>85</td><td>144</td><td>312500.0</td><td>525000.0</td><td>120000</td><td>15000</td><td>19833.333333333332</td><td>77916.66666666667</td></tr>\n",
              "<tr><td>5</td><td>100</td><td>85</td><td>216</td><td>416666.6666666667</td><td>700000.0</td><td>160000</td><td>20000</td><td>29750.0</td><td>116875.0</td></tr>\n",
              "<tr><td>6</td><td>100</td><td>85</td><td>288</td><td>520833.3333333334</td><td>875000.0</td><td>200000</td><td>25000</td><td>39666.666666666664</td><td>155833.33333333334</td></tr>\n",
              "<tr><td>7</td><td>100</td><td>85</td><td>360</td><td>625000.0</td><td>1050000.0</td><td>240000</td><td>30000</td><td>49583.33333333333</td><td>194791.6666666667</td></tr>\n",
              "</tbody>\n",
              "</table>"
            ],
            "text/plain": [
              "<IPython.core.display.HTML object>"
            ]
          },
          "metadata": {
            "tags": []
          },
          "execution_count": 13
        }
      ]
    },
    {
      "cell_type": "markdown",
      "metadata": {
        "id": "q9_PtXqq05pU"
      },
      "source": [
        "This gives us the total spending per item for each tick, which we can use to find the COGS per placement.\n",
        "\n",
        "Why per placement?\n",
        "\n",
        "Our pretend bootcamp only gets paid when students get placed, at least in our unit economics model.\n",
        "\n",
        "Let's calculate.\n"
      ]
    },
    {
      "cell_type": "code",
      "metadata": {
        "id": "NTPxVYDM03Sk",
        "colab": {
          "base_uri": "https://localhost:8080/",
          "height": 158
        },
        "outputId": "14feaaff-d576-43f3-b4ea-83d756c50574"
      },
      "source": [
        "def get_per_tick(name, results):\n",
        "  return results[-1][name] - results[-2][name]\n",
        "\n",
        "cogs = [\n",
        "    (\"Instructors\", get_per_tick(\"Instructors\", cogs_results) / get_per_tick(\"Placed\", cogs_results)),\n",
        "    (\"Coaches\", get_per_tick(\"Coaches\", cogs_results) / get_per_tick(\"Placed\", cogs_results)),\n",
        "    (\"Space\", get_per_tick(\"Space\", cogs_results) / get_per_tick(\"Placed\", cogs_results)),\n",
        "    (\"Other\", get_per_tick(\"Other\", cogs_results) / get_per_tick(\"Placed\", cogs_results)),\n",
        "    (\"CareerCoaches\", get_per_tick(\"CareerCoaches\", cogs_results) / get_per_tick(\"Placed\", cogs_results)),\n",
        "    (\"EmployerPartners\", get_per_tick(\"EmployerPartners\", cogs_results) / get_per_tick(\"Placed\", cogs_results)),\n",
        "]\n",
        "\n",
        "pprint.pprint(cogs)\n",
        "total = sum([y for (x,y) in cogs])\n",
        "print(f\"\\ntotal: {total}\")"
      ],
      "execution_count": null,
      "outputs": [
        {
          "output_type": "stream",
          "text": [
            "[('Instructors', 1446.7592592592587),\n",
            " ('Coaches', 2430.5555555555557),\n",
            " ('Space', 555.5555555555555),\n",
            " ('Other', 69.44444444444444),\n",
            " ('CareerCoaches', 541.087962962963),\n",
            " ('EmployerPartners', 137.73148148148144)]\n",
            "\n",
            "total: 5181.134259259259\n"
          ],
          "name": "stdout"
        }
      ]
    },
    {
      "cell_type": "markdown",
      "metadata": {
        "id": "rgsVa2OPoTqG"
      },
      "source": [
        "So, our COGS on a per-placement basis are\n",
        "\n",
        "* `$1446` - Instructor salary\n",
        "* `$2430` - Coaches\n",
        "* `$555` - Space\n",
        "* `$69`  - Other\n",
        "* `$541`  - Career Coaching\n",
        "* `$138`  - Employer Partnerships\n",
        "\n",
        "For a total of  `$5181`.\n",
        "\n",
        "I picked the numbers to get us to a COGS close to our original `5000`, but I think they're probably close to what some real bootcamps have.\n",
        "\n",
        "Tweaking the variables can be illustrative for understanding what drives costs.\n",
        "\n",
        "If you change the number of students per instructor, or the salary of coaches, how does that impact the cost per placement?\n",
        "\n",
        "Below, there's a complete model, where you can adjust pairs of values like `(instructor_ratio, module_pass_rate)` to see the effect of a hypothesis like: \"Increasing the number of instructors will help more students pass their module assessments\" and see the impact on costs and revenue."
      ]
    },
    {
      "cell_type": "markdown",
      "metadata": {
        "id": "hkG56s0NXJ3f"
      },
      "source": [
        "# Pulling it all together\n",
        "\n",
        "The full bootcamp business model, with all the glorious complications that we've added in.\n",
        "\n",
        "There are a ton of variables you can adjust in the model - the default values here are the ones we picked above, but you can plug in values from actual or hypothetical bootcamps to see how they do.\n",
        "\n",
        "Have fun!"
      ]
    },
    {
      "cell_type": "markdown",
      "metadata": {
        "id": "9NRg8tgXEJ_w"
      },
      "source": [
        "## Big, Hairy Bootcamp Model\n"
      ]
    },
    {
      "cell_type": "code",
      "metadata": {
        "id": "h2Y9pdj_7pTN",
        "colab": {
          "base_uri": "https://localhost:8080/",
          "height": 428
        },
        "outputId": "436a6170-b663-4d4f-97f8-ab2cfffbd22e"
      },
      "source": [
        "# Marketing and Admissions\n",
        "\n",
        "awareness_rate = 10000 # number of new 'aware' people every tick\n",
        "interested_rate = 0.1  # % converted from 'aware' to 'interested'\n",
        "application_rate = 0.5 # % of 'interested' who apply\n",
        "reject_rate = 0.3 # % apps that don't get an interview\n",
        "no_show_rate = 0.1 # % interviewees that don't show up\n",
        "interview_rate = (1 - reject_rate) * (1 - no_show_rate)\n",
        "interview_pass_rate = 0.5\n",
        "enrollment_rate = 0.65 # % of admitted students that enroll\n",
        "\n",
        "# Cost to convert to the next funnel step\n",
        "\n",
        "paid_social = 5 # cost of each new 'aware'\n",
        "paid_search = 15 # cost to convert 'aware' -> 'interested'\n",
        "application_review = 10 # cost to review an application\n",
        "admissions_interview = 40 # cost to schedule, run, and evaluate an admissions interview\n",
        "marketing_admissions_overhead = 200 # per enrollment overhead\n",
        "\n",
        "# Program\n",
        "\n",
        "num_modules = 4\n",
        "dropout_chance = .01\n",
        "module_pass_rate = .97\n",
        "graduation_rate = (module_pass_rate - dropout_chance) ** num_modules\n",
        "\n",
        "# Program Costs\n",
        "\n",
        "student_instructor_ratio = 1/30\n",
        "student_coach_ratio = 1/10\n",
        "instructor_annual = 125000\n",
        "coach_annual = 70000\n",
        "\n",
        "space_cost_per_student = 400\n",
        "other_costs = 50\n",
        "\n",
        "# Job Search\n",
        "\n",
        "job_app_rate = 20 # how many applications does a student submit?\n",
        "phone_screen_rate = 0.1 # fraction of applications submitted result in a passed phone screen?\n",
        "onsite_rate = 0.3 # fraction of passed phone screens result in a passed onsite?\n",
        "accept_rate = 0.95 # fraction of passed onsites resulting in accepted offers\n",
        "placement_rate = job_app_rate * phone_screen_rate * onsite_rate * accept_rate\n",
        "\n",
        "# Career Services Costs\n",
        "\n",
        "employer_partner_ratio = 1/150\n",
        "career_coach_ratio = 1/30\n",
        "employer_partner_annual = 70000\n",
        "career_coach_annual = 55000\n",
        "\n",
        "# Tuition\n",
        "tuition = 10000\n",
        "\n",
        "# Time\n",
        "ticks_per_year = 4\n",
        "months_per_tick = 3\n",
        "\n",
        "whole_bootcamp_spec = f\"\"\"\n",
        "[time]      > Month         @ {months_per_tick}\n",
        "\n",
        "[World]     > Aware         @ {awareness_rate}\n",
        "Aware       > Interested    @ {interested_rate}\n",
        "Interested  > Applicants    @ {application_rate}\n",
        "Applicants  > Interviews    @ {interview_rate}\n",
        "Interviews  > Admitted      @ {interview_pass_rate}\n",
        "Admitted    > Students      @ {enrollment_rate}\n",
        "\n",
        "Students       > Graduates    @ {graduation_rate}\n",
        "Graduates      > Searchers        @ Conversion(1 - {placement_rate})\n",
        "Searchers      > NotPlaced        @ Conversion(1 - {placement_rate})\n",
        "[AllSearchers] > Placed           @ (Graduates + Searchers) * {placement_rate}\n",
        "\n",
        "[money] > PaidSocial        @ Aware * {paid_social}\n",
        "[money] > PaidSearch        @ Interested * {paid_search}\n",
        "[money] > Application       @ Applicants * {application_review}\n",
        "[money] > Interview         @ Interviews * {admissions_interview}\n",
        "[money] > Overhead          @ Admitted * {marketing_admissions_overhead}\n",
        "\n",
        "[money]       > Instructors      @ (Students * {student_instructor_ratio} * {instructor_annual} / {ticks_per_year})\n",
        "[money]       > Coaches          @ (Students * {student_coach_ratio} * {coach_annual} / {ticks_per_year})\n",
        "[money]       > Space            @ (Students * {space_cost_per_student})\n",
        "[money]       > Other            @ (Students * {other_costs})\n",
        "[money]       > EmployerPartners @ (Graduates * {employer_partner_ratio} * {employer_partner_annual} / {ticks_per_year})\n",
        "[money]       > CareerCoaches    @ (Graduates * {career_coach_ratio} * {career_coach_annual} / {ticks_per_year})\n",
        "\n",
        "[money]       > Revenue         @ ({tuition} * Placed)\n",
        "\"\"\"\n",
        "\n",
        "whole_bootcamp_model = parse(whole_bootcamp_spec)\n",
        "whole_bootcamp_results = whole_bootcamp_model.run(rounds=20)\n",
        "whole_bootcamp_rendered = whole_bootcamp_model.render_html(whole_bootcamp_results)\n",
        "HTML(whole_bootcamp_rendered)"
      ],
      "execution_count": null,
      "outputs": [
        {
          "output_type": "execute_result",
          "data": {
            "text/html": [
              "<table>\n",
              "<theader>\n",
              "<tr>\n",
              "<td><strong>Round</strong></td>\n",
              "<td><strong>Month</strong></td>\n",
              "<td><strong>Aware</strong></td>\n",
              "<td><strong>Interested</strong></td>\n",
              "<td><strong>Applicants</strong></td>\n",
              "<td><strong>Interviews</strong></td>\n",
              "<td><strong>Admitted</strong></td>\n",
              "<td><strong>Students</strong></td>\n",
              "<td><strong>Graduates</strong></td>\n",
              "<td><strong>Searchers</strong></td>\n",
              "<td><strong>NotPlaced</strong></td>\n",
              "<td><strong>Placed</strong></td>\n",
              "<td><strong>PaidSocial</strong></td>\n",
              "<td><strong>PaidSearch</strong></td>\n",
              "<td><strong>Application</strong></td>\n",
              "<td><strong>Interview</strong></td>\n",
              "<td><strong>Overhead</strong></td>\n",
              "<td><strong>Instructors</strong></td>\n",
              "<td><strong>Coaches</strong></td>\n",
              "<td><strong>Space</strong></td>\n",
              "<td><strong>Other</strong></td>\n",
              "<td><strong>EmployerPartners</strong></td>\n",
              "<td><strong>CareerCoaches</strong></td>\n",
              "<td><strong>Revenue</strong></td>\n",
              "</tr>\n",
              "</theader>\n",
              "<tbody>\n",
              "<tr><td>0</td><td>0</td><td>0</td><td>0</td><td>0</td><td>0</td><td>0</td><td>0</td><td>0</td><td>0</td><td>0</td><td>0</td><td>0</td><td>0</td><td>0</td><td>0</td><td>0</td><td>0</td><td>0</td><td>0</td><td>0</td><td>0</td><td>0</td><td>0</td></tr>\n",
              "<tr><td>1</td><td>3</td><td>10000</td><td>0</td><td>0</td><td>0</td><td>0</td><td>0</td><td>0</td><td>0</td><td>0</td><td>0</td><td>0</td><td>0</td><td>0</td><td>0</td><td>0</td><td>0</td><td>0</td><td>0</td><td>0</td><td>0</td><td>0</td><td>0</td></tr>\n",
              "<tr><td>2</td><td>6</td><td>10000</td><td>1000</td><td>0</td><td>0</td><td>0</td><td>0</td><td>0</td><td>0</td><td>0</td><td>0</td><td>50000</td><td>0</td><td>0</td><td>0</td><td>0</td><td>0</td><td>0</td><td>0</td><td>0</td><td>0</td><td>0</td><td>0</td></tr>\n",
              "<tr><td>3</td><td>9</td><td>10000</td><td>1000</td><td>500</td><td>0</td><td>0</td><td>0</td><td>0</td><td>0</td><td>0</td><td>0</td><td>100000</td><td>15000</td><td>0</td><td>0</td><td>0</td><td>0</td><td>0</td><td>0</td><td>0</td><td>0</td><td>0</td><td>0</td></tr>\n",
              "<tr><td>4</td><td>12</td><td>10000</td><td>1000</td><td>500</td><td>315</td><td>0</td><td>0</td><td>0</td><td>0</td><td>0</td><td>0</td><td>150000</td><td>30000</td><td>5000</td><td>0</td><td>0</td><td>0</td><td>0</td><td>0</td><td>0</td><td>0</td><td>0</td><td>0</td></tr>\n",
              "<tr><td>5</td><td>15</td><td>10000</td><td>1000</td><td>500</td><td>315</td><td>157</td><td>0</td><td>0</td><td>0</td><td>0</td><td>0</td><td>200000</td><td>45000</td><td>10000</td><td>12600</td><td>0</td><td>0</td><td>0</td><td>0</td><td>0</td><td>0</td><td>0</td><td>0</td></tr>\n",
              "<tr><td>6</td><td>18</td><td>10000</td><td>1000</td><td>500</td><td>315</td><td>157</td><td>102</td><td>0</td><td>0</td><td>0</td><td>0</td><td>250000</td><td>60000</td><td>15000</td><td>25200</td><td>31400</td><td>0</td><td>0</td><td>0</td><td>0</td><td>0</td><td>0</td><td>0</td></tr>\n",
              "<tr><td>7</td><td>21</td><td>10000</td><td>1000</td><td>500</td><td>315</td><td>157</td><td>102</td><td>86</td><td>0</td><td>0</td><td>0</td><td>300000</td><td>75000</td><td>20000</td><td>37800</td><td>62800</td><td>106250.0</td><td>178500.00000000003</td><td>40800</td><td>5100</td><td>0</td><td>0</td><td>0</td></tr>\n",
              "<tr><td>8</td><td>24</td><td>10000</td><td>1000</td><td>500</td><td>315</td><td>157</td><td>102</td><td>86</td><td>36</td><td>0</td><td>49.019999999999996</td><td>350000</td><td>90000</td><td>25000</td><td>50400</td><td>94200</td><td>212500.0</td><td>357000.00000000006</td><td>81600</td><td>10200</td><td>10033.333333333334</td><td>39416.666666666664</td><td>0</td></tr>\n",
              "<tr><td>9</td><td>27</td><td>10000</td><td>1000</td><td>500</td><td>315</td><td>157</td><td>102</td><td>86</td><td>36</td><td>15</td><td>118.55999999999999</td><td>400000</td><td>105000</td><td>30000</td><td>63000</td><td>125600</td><td>318750.0</td><td>535500.0000000001</td><td>122400</td><td>15300</td><td>20066.666666666668</td><td>78833.33333333333</td><td>490199.99999999994</td></tr>\n",
              "<tr><td>10</td><td>30</td><td>10000</td><td>1000</td><td>500</td><td>315</td><td>157</td><td>102</td><td>86</td><td>36</td><td>30</td><td>188.09999999999997</td><td>450000</td><td>120000</td><td>35000</td><td>75600</td><td>157000</td><td>425000.0</td><td>714000.0000000001</td><td>163200</td><td>20400</td><td>30100.0</td><td>118250.0</td><td>1675799.9999999998</td></tr>\n",
              "<tr><td>11</td><td>33</td><td>10000</td><td>1000</td><td>500</td><td>315</td><td>157</td><td>102</td><td>86</td><td>36</td><td>45</td><td>257.64</td><td>500000</td><td>135000</td><td>40000</td><td>88200</td><td>188400</td><td>531250.0</td><td>892500.0000000001</td><td>204000</td><td>25500</td><td>40133.333333333336</td><td>157666.66666666666</td><td>3556799.9999999995</td></tr>\n",
              "<tr><td>12</td><td>36</td><td>10000</td><td>1000</td><td>500</td><td>315</td><td>157</td><td>102</td><td>86</td><td>36</td><td>60</td><td>327.17999999999995</td><td>550000</td><td>150000</td><td>45000</td><td>100800</td><td>219800</td><td>637500.0</td><td>1071000.0000000002</td><td>244800</td><td>30600</td><td>50166.66666666667</td><td>197083.3333333333</td><td>6133200.0</td></tr>\n",
              "<tr><td>13</td><td>39</td><td>10000</td><td>1000</td><td>500</td><td>315</td><td>157</td><td>102</td><td>86</td><td>36</td><td>75</td><td>396.7199999999999</td><td>600000</td><td>165000</td><td>50000</td><td>113400</td><td>251200</td><td>743750.0</td><td>1249500.0000000002</td><td>285600</td><td>35700</td><td>60200.00000000001</td><td>236499.99999999997</td><td>9405000.0</td></tr>\n",
              "<tr><td>14</td><td>42</td><td>10000</td><td>1000</td><td>500</td><td>315</td><td>157</td><td>102</td><td>86</td><td>36</td><td>90</td><td>466.2599999999999</td><td>650000</td><td>180000</td><td>55000</td><td>126000</td><td>282600</td><td>850000.0</td><td>1428000.0000000002</td><td>326400</td><td>40800</td><td>70233.33333333334</td><td>275916.6666666666</td><td>13372200.0</td></tr>\n",
              "<tr><td>15</td><td>45</td><td>10000</td><td>1000</td><td>500</td><td>315</td><td>157</td><td>102</td><td>86</td><td>36</td><td>105</td><td>535.7999999999998</td><td>700000</td><td>195000</td><td>60000</td><td>138600</td><td>314000</td><td>956250.0</td><td>1606500.0000000002</td><td>367200</td><td>45900</td><td>80266.66666666667</td><td>315333.3333333333</td><td>18034800.0</td></tr>\n",
              "<tr><td>16</td><td>48</td><td>10000</td><td>1000</td><td>500</td><td>315</td><td>157</td><td>102</td><td>86</td><td>36</td><td>120</td><td>605.3399999999998</td><td>750000</td><td>210000</td><td>65000</td><td>151200</td><td>345400</td><td>1062500.0</td><td>1785000.0000000002</td><td>408000</td><td>51000</td><td>90300.0</td><td>354750.0</td><td>23392800.0</td></tr>\n",
              "<tr><td>17</td><td>51</td><td>10000</td><td>1000</td><td>500</td><td>315</td><td>157</td><td>102</td><td>86</td><td>36</td><td>135</td><td>674.8799999999998</td><td>800000</td><td>225000</td><td>70000</td><td>163800</td><td>376800</td><td>1168750.0</td><td>1963500.0000000002</td><td>448800</td><td>56100</td><td>100333.33333333333</td><td>394166.6666666667</td><td>29446200.0</td></tr>\n",
              "<tr><td>18</td><td>54</td><td>10000</td><td>1000</td><td>500</td><td>315</td><td>157</td><td>102</td><td>86</td><td>36</td><td>150</td><td>744.4199999999997</td><td>850000</td><td>240000</td><td>75000</td><td>176400</td><td>408200</td><td>1275000.0</td><td>2142000.0000000005</td><td>489600</td><td>61200</td><td>110366.66666666666</td><td>433583.3333333334</td><td>36195000.0</td></tr>\n",
              "<tr><td>19</td><td>57</td><td>10000</td><td>1000</td><td>500</td><td>315</td><td>157</td><td>102</td><td>86</td><td>36</td><td>165</td><td>813.9599999999997</td><td>900000</td><td>255000</td><td>80000</td><td>189000</td><td>439600</td><td>1381250.0</td><td>2320500.0000000005</td><td>530400</td><td>66300</td><td>120399.99999999999</td><td>473000.00000000006</td><td>43639200.0</td></tr>\n",
              "<tr><td>20</td><td>60</td><td>10000</td><td>1000</td><td>500</td><td>315</td><td>157</td><td>102</td><td>86</td><td>36</td><td>180</td><td>883.4999999999997</td><td>950000</td><td>270000</td><td>85000</td><td>201600</td><td>471000</td><td>1487500.0</td><td>2499000.0000000005</td><td>571200</td><td>71400</td><td>130433.33333333331</td><td>512416.66666666674</td><td>51778800.0</td></tr>\n",
              "</tbody>\n",
              "</table>"
            ],
            "text/plain": [
              "<IPython.core.display.HTML object>"
            ]
          },
          "metadata": {
            "tags": []
          },
          "execution_count": 15
        }
      ]
    },
    {
      "cell_type": "markdown",
      "metadata": {
        "id": "bsq0m30z4XUn"
      },
      "source": [
        "**Placed count**\n",
        "\n",
        "The \"Placed\" count in the chart is a little off, since it misses some fractional students. I adjust it in the printed stats, including the tuition collected, since that's based on placements.\n",
        "\n",
        "Technical explanation: the systems library doesn't handle multiple conversions from a single stock, since it applies flows in order, and a conversion zeros out the stock it was converting from. "
      ]
    },
    {
      "cell_type": "markdown",
      "metadata": {
        "id": "gm_WobJ7DCsO"
      },
      "source": [
        "## Totals, Results, Summary"
      ]
    },
    {
      "cell_type": "code",
      "metadata": {
        "id": "IubYiMcBCxyP",
        "colab": {
          "base_uri": "https://localhost:8080/",
          "height": 710
        },
        "outputId": "1c4958b6-faf1-4fdc-83dd-c8345a0019cc"
      },
      "source": [
        "## Formatting the results\n",
        "\n",
        "def get_steady_state(name, results):\n",
        "  return results[-1][name]\n",
        "\n",
        "def get_per_tick(name, results):\n",
        "  return results[-1][name] - results[-2][name]\n",
        "\n",
        "def get_total(name, results):\n",
        "  return sum([round[name] for round in results])\n",
        "\n",
        "total_students = get_total(\"Students\", whole_bootcamp_results)\n",
        "total_graduates = get_total(\"Graduates\", whole_bootcamp_results)\n",
        "total_placed = whole_bootcamp_results[-1][\"Placed\"]\n",
        "total_not_placed = whole_bootcamp_results[-1][\"NotPlaced\"]\n",
        "current_students = whole_bootcamp_results[-1][\"Students\"] \n",
        "still_searching = whole_bootcamp_results[-1][\"Graduates\"] + whole_bootcamp_results[-1][\"Searchers\"]\n",
        "\n",
        "print(\"\")\n",
        "print(f\"total students: {total_students}\")\n",
        "print(f\"current_students:  {current_students}\")\n",
        "print(f\"dropped out: {total_students - total_graduates - current_students}\")\n",
        "print(f\"total graduates: {total_graduates}\")\n",
        "print(f\"graduation_rate: {graduation_rate:.1%}\")\n",
        "\n",
        "# print(f\"Rounding errors: {total_placed + total_not_placed + still_searching} should equal {total_graduates}\")\n",
        "# print(f\"total placed is actually: {total_graduates - (total_not_placed + still_searching)}\")\n",
        "total_placed = total_graduates - (total_not_placed + still_searching)\n",
        "\n",
        "print(f\"total placed: {total_placed}\")\n",
        "print(f\"total not placed: {total_not_placed}\")\n",
        "print(f\"still searching: {still_searching}\")\n",
        "\n",
        "grad_placement_rate = total_placed / (total_graduates - still_searching)\n",
        "success_rate = total_placed / (total_students - current_students - still_searching)\n",
        "print(\"\")\n",
        "print(f\"placement rate (per tick): {placement_rate:.1%}\")\n",
        "print(f\"placement rate: {grad_placement_rate:.1%}\")\n",
        "print(f\"prospective success rate (placed / total students): {success_rate:.1%}\")\n",
        "\n",
        "print(\"\\nCAC\")\n",
        "whole_bootcamp_cac = [\n",
        "    (\"PaidSocial\", get_per_tick(\"PaidSocial\", whole_bootcamp_results) / get_steady_state(\"Students\", whole_bootcamp_results)),\n",
        "    (\"PaidSearch\", get_per_tick(\"PaidSearch\", whole_bootcamp_results) / get_steady_state(\"Students\", whole_bootcamp_results)),\n",
        "    (\"Application\", get_per_tick(\"Application\", whole_bootcamp_results) / get_steady_state(\"Students\", whole_bootcamp_results)),\n",
        "    (\"Interview\", get_per_tick(\"Interview\", whole_bootcamp_results) / get_steady_state(\"Students\", whole_bootcamp_results)),\n",
        "    (\"Overhead\", get_per_tick(\"Overhead\", whole_bootcamp_results) / get_steady_state(\"Students\", whole_bootcamp_results)),\n",
        "]\n",
        "\n",
        "for name, cost in whole_bootcamp_cac:\n",
        "  print(f\"{name}: ${cost:.2f} (${cost / placement_rate:.2f} per placement)\")\n",
        "whole_bootcamp_cac_total = sum([y for (x,y) in whole_bootcamp_cac])\n",
        "print(f\"\\nmarketing funnel spend per student per tick:\\n ${whole_bootcamp_cac_total:.2f}\")\n",
        "print(f\"marketing funnel, per placement:\\n ${whole_bootcamp_cac_total / placement_rate:.2f}\")\n",
        "# counted from 'interested' on\n",
        "overall_conversion_rate = application_rate * interview_rate * interview_pass_rate * enrollment_rate\n",
        "print(f\"overall funnel conversion rate: {overall_conversion_rate:.1%}\\n\") \n",
        "\n",
        "whole_bootcamp_cogs = [\n",
        "    (\"Instructors\", get_per_tick(\"Instructors\", whole_bootcamp_results) / get_per_tick(\"Placed\", whole_bootcamp_results)),\n",
        "    (\"Coaches\", get_per_tick(\"Coaches\", whole_bootcamp_results) / get_per_tick(\"Placed\", whole_bootcamp_results)),\n",
        "    (\"Space\", get_per_tick(\"Space\", whole_bootcamp_results) / get_per_tick(\"Placed\", whole_bootcamp_results)),\n",
        "    (\"Other\", get_per_tick(\"Other\", whole_bootcamp_results) / get_per_tick(\"Placed\", whole_bootcamp_results)),\n",
        "    (\"CareerCoaches\", get_per_tick(\"CareerCoaches\", whole_bootcamp_results) / get_per_tick(\"Placed\", whole_bootcamp_results)),\n",
        "    (\"EmployerPartners\", get_per_tick(\"EmployerPartners\", whole_bootcamp_results) / get_per_tick(\"Placed\", whole_bootcamp_results)),\n",
        "]\n",
        "\n",
        "print(\"COGS:\")\n",
        "for name, cost in whole_bootcamp_cogs:\n",
        "  print(f\"{name}: ${cost:.2f}\")\n",
        "whole_bootcamp_cogs_total = sum([y for (x,y) in whole_bootcamp_cogs])\n",
        "print(f\"\\nTotal COGS per placement: ${whole_bootcamp_cogs_total:.2f}\\n\")\n",
        "\n",
        "cost_centers = [\"PaidSocial\", \"PaidSearch\", \"Application\",\t\"Interview\",\t\"Overhead\",\t\"Instructors\",\t\"Coaches\",\t\"Space\",\t\"Other\",\t\"EmployerPartners\",\t\"CareerCoaches\"]\n",
        "expenses_total = sum([whole_bootcamp_results[-1][name] for name in cost_centers])\n",
        "print(f\"Expenses (CAC and COGS): ${expenses_total}\")\n",
        "tuition_collected = total_placed * tuition\n",
        "print(f\"Tuition Revenue: ${tuition_collected}\")\n",
        "\n"
      ],
      "execution_count": null,
      "outputs": [
        {
          "output_type": "stream",
          "text": [
            "\n",
            "total students: 1530\n",
            "current_students:  102\n",
            "dropped out: 224\n",
            "total graduates: 1204\n",
            "graduation_rate: 84.9%\n",
            "total placed: 902\n",
            "total not placed: 180\n",
            "still searching: 122\n",
            "\n",
            "placement rate (per tick): 57.0%\n",
            "placement rate: 83.4%\n",
            "prospective success rate (placed / total students): 69.1%\n",
            "\n",
            "CAC\n",
            "PaidSocial: $490.20 ($859.99 per placement)\n",
            "PaidSearch: $147.06 ($258.00 per placement)\n",
            "Application: $49.02 ($86.00 per placement)\n",
            "Interview: $123.53 ($216.72 per placement)\n",
            "Overhead: $307.84 ($540.08 per placement)\n",
            "\n",
            "marketing funnel spend per student per tick:\n",
            " $1117.65\n",
            "marketing funnel, per placement:\n",
            " $1960.78\n",
            "overall funnel conversion rate: 10.2%\n",
            "\n",
            "COGS:\n",
            "Instructors: $1527.90\n",
            "Coaches: $2566.87\n",
            "Space: $586.71\n",
            "Other: $73.34\n",
            "CareerCoaches: $566.82\n",
            "EmployerPartners: $144.28\n",
            "\n",
            "Total COGS per placement: $5465.92\n",
            "\n",
            "Expenses (CAC and COGS): $7249550.0\n",
            "Tuition Revenue: $9020000\n"
          ],
          "name": "stdout"
        }
      ]
    },
    {
      "cell_type": "markdown",
      "metadata": {
        "id": "F8ZVYJRF8RsS"
      },
      "source": [
        "## What did we learn?\n",
        "\n",
        "* Bootcamps take a long time to make money, and the margins (at least for this `$10,000`-tuition bootcamp) aren't amazing.\n",
        "\n",
        "* With the assumptions of this model, the biggest costs are instructional staff, then marketing, then career services and space. \n",
        "\n",
        "* For a prospective student, the chances of graduating and getting a job are not the same as the placement rate of the bootcamp. Bootcamps usually advertise the placement rate based on 'eligible students' - students who graduate and actively look for a job. For someone considering a bootcamp, you might care instead about your overall chances of success. With the numbers in this model, the placement rate is `83.4%`, but the \n",
        "prospective success rate is only `69.1%`.\n",
        "\n",
        "* Charging for job placements means that COGS and CAC end up with multipliers based on the graduation and job placement rates. (namely, the inverse of the product of the graduation and placement rates). Maybe this is an obvious result, but seeing the multiplier on the numbers made it more real to me.\n",
        "\n",
        "* Small per-click costs early in the marketing funnel get greatly magnified by the dropoff in the rest of the funnel. The `$5` to make a new person aware of the bootcamp turned into `$588` per student who made it all the way to placement in a job.\n",
        "\n",
        "* The earlier in the funnel, the greater the magnification by later funnel steps rates. Late-stage costs like employer partnerships have a _much_ smaller multiplier than early stage costs like marketing."
      ]
    },
    {
      "cell_type": "markdown",
      "metadata": {
        "id": "8tj6lPBdXQcU"
      },
      "source": [
        "## Real Bootcamp numbers\n",
        "\n",
        "If you adjust the numbers to match the publicly available numbers for some actual bootcamps, you can try to see how they're doing.\n",
        "\n",
        "Some of the variables don't make sense for some bootcamps. For example, online bootcamps spend `$0` on space for students. Similarly, if you want to model a bootcamp that accepts all students without an interview, set the interview pass rate to `100%` and the interview cost to `$0`.\n",
        "\n",
        "Some structural changes require changing not just the numbers, but the formulas. If you wanted to model a bootcamp where every student who enrolled paid (instead of only placed students), you'd have to change the formula to multiply by `Students` instead of `Placed`. Since we built this up piece by piece, this kind of change shouldn't be too hard!\n",
        "\n",
        "Some sources for bootcamp numbers:\n",
        "\n",
        "- https://cirr.org/\n",
        "- https://careerkarma.com/blog/bootcamp-market-report-2020/\n",
        "- https://www.coursereport.com/reports/coding-bootcamp-market-size-research-2019\n",
        "- https://www.switchup.org/rankings/coding-bootcamp-survey\n",
        "- https://www.classcentral.com/report/bootcamps-and-isas/\n",
        "\n",
        "Some sources for ad cost numbers:\n",
        "\n",
        "- https://www.wordstream.com/blog/ws/2017/02/28/facebook-advertising-benchmarks (suggests an education \"Cost per Action\" of `$7.85` on Facebook and similar advertisers)\n",
        "- https://www.webfx.com/blog/marketing/much-cost-advertise-google-adwords/ (Google Ads cost per click)"
      ]
    },
    {
      "cell_type": "markdown",
      "metadata": {
        "id": "yW3Me38zZSyA"
      },
      "source": [
        "# More to explore\n",
        "\n",
        "While this model generates insights, it leaves so much out! \n",
        "\n",
        "Here's a partial list of things-left-out."
      ]
    },
    {
      "cell_type": "markdown",
      "metadata": {
        "id": "gdlZLXOuAOTx"
      },
      "source": [
        "## Relationships between variables\n",
        "\n",
        "Lots of the variables act as independent in this model, but aren't really independent in a real school. If you fire all your coaches, your graduation rate won't stay the same. Setting the coach ratio to zero won't have that effect automatically in this model, so you could generate wacky results.\n",
        "\n",
        "You can form hypotheses about how variables are related, and make connected changes.\n",
        "\n",
        "Hypotheses to play with:\n",
        "\n",
        "* spending on marketing affects how many people become aware, interested, apply, and enroll.\n",
        "* changing tuition affects marketing conversion numbers\n",
        "* paying teachers more makes the graduation numbers go up\n",
        "* changing the employer partnerships ratios affects placement numbers\n",
        "\n",
        "Try these experiments out in the notebook - it's free to run the model!"
      ]
    },
    {
      "cell_type": "markdown",
      "metadata": {
        "id": "vIm_gF4C1f02"
      },
      "source": [
        "## ISAs, Loans, and Tuition\n",
        "\n",
        "Repayment isn't actually a flat tuition fee. When students enter an ISA, they pay a percentage of their salary for the length of the ISA. \n",
        "\n",
        "For other tuition payment models, students might have a payment plan, the loan provider might have a structured deal with the school, or there might be other factors.\n",
        "\n",
        "The model here doesn't include ISA factors into the tuition repayment, but you might try to add it in if you're interested in how that affects things!"
      ]
    },
    {
      "cell_type": "markdown",
      "metadata": {
        "id": "AzmRF-186b87"
      },
      "source": [
        "## Overhead and Management costs\n",
        "\n",
        "We left out all the overhead and management costs, product development, etc.\n",
        "\n",
        "It would be interesting to try to include them, though potentially hard.\n",
        "\n",
        "An (admittedly work-intensive and slightly creepy) strategy for doing it might be to pull a bootcamp's org chart from LinkedIn, guesstimate salaries, and add it all up.\n",
        "\n",
        "Depending on the bootcamp, overhead could be as large or larger than all the other costs, or only a fraction. "
      ]
    },
    {
      "cell_type": "markdown",
      "metadata": {
        "id": "3g4ikCx6iD0R"
      },
      "source": [
        "## Costs aren't smooth\n",
        "\n",
        "In this model, we treat things as continous when they are really discrete, since that's easier to model. In reality, many elements of the cost model  move in discrete jumps - you can't hire half a teacher. You can't place a fractional student, etc."
      ]
    },
    {
      "cell_type": "markdown",
      "metadata": {
        "id": "t1bN8OYaFE1L"
      },
      "source": [
        "## Marketing Funnel\n",
        "\n",
        "I picked ads costs and conversion numbers mostly to make the model simple. If you talk to someone who actually runs one of these funnels, it's going to look _very_ different from what I have here.\n",
        "\n",
        "Some differences:\n",
        "\n",
        "* multiple channels, with different prices\n",
        "* mix of organic and paid interest\n",
        "* uncertainty of attribution\n",
        "* multiple interactions needed to convert between each 'step' in this model\n",
        "* very different costs and conversion rates"
      ]
    },
    {
      "cell_type": "markdown",
      "metadata": {
        "id": "ZkmaGsN8jzW_"
      },
      "source": [
        "## Student aptitude or prior experience\n",
        "\n",
        "One reason bootcamps have an application process is to try to pick students who they think will be a good fit for their program. This is some combination of prior experience, attitude, grit, and aptitude. This is probably pretty complicated, and if bootcamps could accurately tell who would succeed in their bootcamp, they might increase their graduation and job placement rates.\n",
        "\n",
        "This is hard to model, and it has justice and fairness implications. If bootcamps just let in people who are likely to get a job afterwards because of their other credentials, the bootcamp is just acting as a filter.\n",
        "\n",
        "Bootcamps likely have false positives and false negatives at every active filtering step - their application, their interviews, and their in-program gating assessments. Driving down false negatives would presumably help the conversion rates for later stages in the model. Driving down false positive rates would let more people through, which is better for those students and for overall revenue. \n",
        "\n",
        "Assessments are hard to build well."
      ]
    },
    {
      "cell_type": "markdown",
      "metadata": {
        "id": "pEIdy22PZ67v"
      },
      "source": [
        "## Employer Partnerships"
      ]
    },
    {
      "cell_type": "markdown",
      "metadata": {
        "id": "FuNkXg9PC0bd"
      },
      "source": [
        "Some number of students will be placed through employer partnerships.\n",
        "\n",
        "Like everything about this model, this is an oversimplified version of how employer partnerships work. \n",
        "\n",
        "I've left employer partnerships out of the overall placements model, but if you want to play with it, you can."
      ]
    },
    {
      "cell_type": "code",
      "metadata": {
        "id": "sb9FJ2S8BUo4",
        "colab": {
          "base_uri": "https://localhost:8080/",
          "height": 34
        },
        "outputId": "2643c789-6602-4f47-ab8d-765d975b69c7"
      },
      "source": [
        "cold_reach_out_to_employers = 100\n",
        "response_rate = 0.2\n",
        "employer_inbound = 5\n",
        "match_rate = 0.5\n",
        "positions_per_company = 2\n",
        "partnership_placements = (cold_reach_out_to_employers * response_rate + employer_inbound) * match_rate * positions_per_company\n",
        "print(partnership_placements)"
      ],
      "execution_count": null,
      "outputs": [
        {
          "output_type": "stream",
          "text": [
            "25.0\n"
          ],
          "name": "stdout"
        }
      ]
    },
    {
      "cell_type": "markdown",
      "metadata": {
        "id": "riRTx3ZiZapy"
      },
      "source": [
        "## Brand\n",
        "\n",
        "Potential effects of brand on the model:\n",
        "- attract better teachers, cheaper (improvement to graduation rate, decrease in COGS)\n",
        "- attract students, cheaper (increase marketing effectiveness, increase enrollment conversion, decrease CAC)\n",
        "- attract employers (improved placement rate, lower placement costs)\n",
        "\n",
        "It might be possible to model this as a scalar factor that gets multiplied into these. For bootcamps whose brand is actually a negative factor, the value could be less than 1.\n",
        "\n",
        "Different factors might affect brand - the active investment in brand marketing activities by the school, ratings and reviews on websites, PR and media coverage, the school's outcomes numbers, and more."
      ]
    },
    {
      "cell_type": "markdown",
      "metadata": {
        "id": "1s4er1JmipDK"
      },
      "source": [
        "## Alumni\n",
        "\n",
        "Having a large alumni network affects the ability to recruit new students, teachers, and place students into jobs.\n",
        "\n",
        "It might work like the brand factor, but act as a function of the number of students who ever graduated."
      ]
    },
    {
      "cell_type": "markdown",
      "metadata": {
        "id": "lf2cbXI7jqEq"
      },
      "source": [
        "## Competition\n",
        "\n",
        "Bootcamps don't exist in a bubble. When one bootcamp advertises, prospects become aware not only of that bootcamp, but of bootcamps as an educational option for them. While the industry is still fairly new, and most growth for any bootcamp comes from educating new prospective students about bootcamps, we're gradually moving towards a world of bootcamps competing with each other for students. \n",
        "\n",
        "The marketing and admissions funnel here doesn't say anything about a fixed pool of people to advertise to, or competing with other bootcamps for those students. I don't know if there's a good natural way to model how competition would work - maybe some combination of brand, marketing, and alumni."
      ]
    },
    {
      "cell_type": "markdown",
      "metadata": {
        "id": "7Ph028mHj4Io"
      },
      "source": [
        "## Other business lines\n",
        "\n",
        "The model presented here is based on what I think of as the traditional code bootcamp model. That is, full time, fixed length, with students that are career-seeking.\n",
        "\n",
        "Companies that run this kind of bootcamp also make money other ways. Selling enterprise training is the most notable, but other business lines include running coworking spaces, charging employers for placements, selling curriculum, selling education software, and building other software (sometimes using students as freelancers, in effect). \n",
        "\n",
        "These are all left out of this analysis, but could be included."
      ]
    }
  ]
}